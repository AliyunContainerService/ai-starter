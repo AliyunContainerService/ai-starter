{
 "cells": [
  {
   "cell_type": "markdown",
   "metadata": {},
   "source": [
    "# 入门云原生AI - 1. 从mnist开始体验\n",
    "\n",
    "在这个示例中，我们将演示：\n",
    "\n",
    "* 下载并准备数据\n",
    "* 利用Arena提交单机训练任务,并且查看训练任务状态和日志\n",
    "* 通过TensorBoard查看训练任务\n",
    "\n",
    "> 前提：请先完成文档中的[共享存储配置](../docs/setup/SETUP_NAS.md)，当前${HOME}就是其中`training-data`的数据卷对应目录。"
   ]
  },
  {
   "cell_type": "markdown",
   "metadata": {},
   "source": [
    "1.下载TensorFlow样例源代码到${HOME}/models目录"
   ]
  },
  {
   "cell_type": "code",
   "execution_count": 1,
   "metadata": {
    "scrolled": true
   },
   "outputs": [
    {
     "name": "stdout",
     "output_type": "stream",
     "text": [
      "Cloning into '/root/models/tensorflow-sample-code'...\n",
      "remote: Enumerating objects: 242, done.\u001b[K\n",
      "remote: Counting objects: 100% (242/242), done.\u001b[K\n",
      "remote: Compressing objects: 100% (112/112), done.\u001b[K\n",
      "remote: Total 242 (delta 93), reused 242 (delta 93)\u001b[KiB/s   \n",
      "Receiving objects: 100% (242/242), 11.25 MiB | 22.15 MiB/s, done.\n",
      "Resolving deltas: 100% (93/93), done.\n",
      "Checking connectivity... done.\n"
     ]
    }
   ],
   "source": [
    "! git clone https://code.aliyun.com/xiaozhou/tensorflow-sample-code.git ${HOME}/models/tensorflow-sample-code"
   ]
  },
  {
   "cell_type": "markdown",
   "metadata": {},
   "source": [
    "2.下载mnist数据到${HOME}/dataset/mnist"
   ]
  },
  {
   "cell_type": "code",
   "execution_count": 2,
   "metadata": {
    "scrolled": false
   },
   "outputs": [
    {
     "name": "stdout",
     "output_type": "stream",
     "text": [
      "  % Total    % Received % Xferd  Average Speed   Time    Time     Time  Current\n",
      "                                 Dload  Upload   Total   Spent    Left  Speed\n",
      "100 1610k    0 1610k    0     0  2432k      0 --:--:-- --:--:-- --:--:-- 2432k\n",
      "  % Total    % Received % Xferd  Average Speed   Time    Time     Time  Current\n",
      "                                 Dload  Upload   Total   Spent    Left  Speed\n",
      "100  4542    0  4542    0     0  13465      0 --:--:-- --:--:-- --:--:-- 13477\n",
      "  % Total    % Received % Xferd  Average Speed   Time    Time     Time  Current\n",
      "                                 Dload  Upload   Total   Spent    Left  Speed\n",
      "100 9680k    0 9680k    0     0  12.7M      0 --:--:-- --:--:-- --:--:-- 12.7M\n",
      "  % Total    % Received % Xferd  Average Speed   Time    Time     Time  Current\n",
      "                                 Dload  Upload   Total   Spent    Left  Speed\n",
      "100 28881    0 28881    0     0  83500      0 --:--:-- --:--:-- --:--:-- 83713\n"
     ]
    }
   ],
   "source": [
    "! mkdir -p ${HOME}/dataset/mnist && \\\n",
    "  cd ${HOME}/dataset/mnist && \\\n",
    "  curl -O https://code.aliyun.com/xiaozhou/tensorflow-sample-code/raw/master/data/t10k-images-idx3-ubyte.gz && \\\n",
    "  curl -O https://code.aliyun.com/xiaozhou/tensorflow-sample-code/raw/master/data/t10k-labels-idx1-ubyte.gz && \\\n",
    "  curl -O https://code.aliyun.com/xiaozhou/tensorflow-sample-code/raw/master/data/train-images-idx3-ubyte.gz && \\\n",
    "  curl -O https://code.aliyun.com/xiaozhou/tensorflow-sample-code/raw/master/data/train-labels-idx1-ubyte.gz"
   ]
  },
  {
   "cell_type": "markdown",
   "metadata": {},
   "source": [
    "3.创建训练结果${HOME}/output"
   ]
  },
  {
   "cell_type": "code",
   "execution_count": 3,
   "metadata": {},
   "outputs": [],
   "source": [
    "! mkdir -p ${HOME}/output"
   ]
  },
  {
   "cell_type": "markdown",
   "metadata": {},
   "source": [
    "4.查看目录结构, 其中`dataset`是数据目录，`models`是模型代码目录，`output`是训练结果目录。"
   ]
  },
  {
   "cell_type": "code",
   "execution_count": 4,
   "metadata": {},
   "outputs": [
    {
     "name": "stdout",
     "output_type": "stream",
     "text": [
      "/root\r\n",
      "|-- dataset\r\n",
      "|   `-- mnist\r\n",
      "|       |-- t10k-images-idx3-ubyte.gz\r\n",
      "|       |-- t10k-labels-idx1-ubyte.gz\r\n",
      "|       |-- train-images-idx3-ubyte.gz\r\n",
      "|       `-- train-labels-idx1-ubyte.gz\r\n",
      "|-- models\r\n",
      "|   `-- tensorflow-sample-code\r\n",
      "|       |-- README.md\r\n",
      "|       |-- data\r\n",
      "|       |-- mnist-tf\r\n",
      "|       |-- models\r\n",
      "|       |-- mpijob\r\n",
      "|       `-- tfjob\r\n",
      "`-- output\r\n",
      "\r\n",
      "10 directories, 5 files\r\n"
     ]
    }
   ],
   "source": [
    "! tree -I ai-starter -L 3 ${HOME}"
   ]
  },
  {
   "cell_type": "markdown",
   "metadata": {},
   "source": [
    "5.检查可用GPU资源"
   ]
  },
  {
   "cell_type": "code",
   "execution_count": 5,
   "metadata": {},
   "outputs": [
    {
     "name": "stdout",
     "output_type": "stream",
     "text": [
      "NAME                                 IPADDRESS      ROLE    GPU(Total)  GPU(Allocated)\r\n",
      "cn-huhehaote.i-hp309790vg0alb65q123  192.168.0.116  master  0           0\r\n",
      "cn-huhehaote.i-hp32to8ln1xdug4rk123  192.168.0.194  <none>  8           0\r\n",
      "cn-huhehaote.i-hp32to8ln1xdug4rk123  192.168.0.195  <none>  8           0\r\n",
      "cn-huhehaote.i-hp3b4qysu7phej5q2123  192.168.0.115  master  0           0\r\n",
      "cn-huhehaote.i-hp3b4qysu7phen3sa123  192.168.0.118  <none>  8           0\r\n",
      "cn-huhehaote.i-hp3b4qysu7phen3sa123  192.168.0.117  <none>  8           0\r\n",
      "cn-huhehaote.i-hp3dc30s7ew8nbmtq123  192.168.0.114  master  0           0\r\n",
      "-----------------------------------------------------------------------------------------\r\n",
      "Allocated/Total GPUs In Cluster:\r\n",
      "0/32 (0%)  \r\n"
     ]
    }
   ],
   "source": [
    "! arena top node"
   ]
  },
  {
   "cell_type": "markdown",
   "metadata": {},
   "source": [
    "6.通过Arena提交训练任务\n",
    "6.1 可以根据您的需要设置JOB_NAME，建议在多人共同使用的时候，设置自己独有的JOB_NAME\n",
    "6.2 这里`training-data`在配置[共享存储时](../docs/setup/SETUP_NAS.md)创建.   \n",
    "`--data=training-data:/training`将其映射到训练任务的`/training`目录。而`/training`目录下的子目录`/training/models/tensorflow-sample-code`就是步骤1拷贝源代码的位置，`/training`目录下的子目录`/training/dataset/mnist`就是步骤2下载数据的位置, `/training`目录下的子目录`/training/output`就是步骤3创建的训练结果输出的位置。"
   ]
  },
  {
   "cell_type": "code",
   "execution_count": 6,
   "metadata": {},
   "outputs": [
    {
     "name": "stdout",
     "output_type": "stream",
     "text": [
      "env: JOB_NAME=tf-mnist\n",
      "configmap/tf-mnist-tfjob created\n",
      "configmap/tf-mnist-tfjob labeled\n",
      "service/tf-mnist-tensorboard created\n",
      "deployment.extensions/tf-mnist-tensorboard created\n",
      "tfjob.kubeflow.org/tf-mnist created\n",
      "\u001b[36mINFO\u001b[0m[0001] The Job tf-mnist has been submitted successfully \n",
      "\u001b[36mINFO\u001b[0m[0001] You can run `arena get tf-mnist --type tfjob` to check the job status \n"
     ]
    }
   ],
   "source": [
    "# Set the Job Name\n",
    "%env JOB_NAME=tf-mnist\n",
    "# Submit a training job \n",
    "# using code and data from Data Volume\n",
    "!arena submit tf \\\n",
    "             --name=$JOB_NAME \\\n",
    "             --gpus=1 \\\n",
    "             --data=training-data:/training \\\n",
    "             --tensorboard \\\n",
    "             --image=tensorflow/tensorflow:1.11.0-gpu-py3 \\\n",
    "             --logdir=/training/output/mnist \\\n",
    "             \"python /training/models/tensorflow-sample-code/tfjob/docker/mnist/main.py --max_steps 10000 --data_dir /training/dataset/mnist --log_dir /training/output/mnist\""
   ]
  },
  {
   "cell_type": "markdown",
   "metadata": {},
   "source": [
    "> - `Arena`命令的`--logdir`指定`tensorboard`从训练任务的指定目录读取event  \n",
    "> - 完整参数可以参考[命令行文档](https://github.com/kubeflow/arena/blob/master/docs/cli/arena_submit_tfjob.md)"
   ]
  },
  {
   "cell_type": "markdown",
   "metadata": {},
   "source": [
    "7.检查模型训练状态，当任务状态从`Pending`转为`Running`后就可以查看日志和GPU使用率了。这里`-e`为了方便检查任务`Pending`的原因。通常看到`[Pulling] pulling image \"tensorflow/tensorflow:1.11.0-gpu-py3\"`代表容器镜像过大，导致任务处于`Pending`。这时可以重复执行下列命令直到任务状态变为`Running`。"
   ]
  },
  {
   "cell_type": "code",
   "execution_count": 7,
   "metadata": {},
   "outputs": [
    {
     "name": "stdout",
     "output_type": "stream",
     "text": [
      "STATUS: RUNNING\r\n",
      "NAMESPACE: default\r\n",
      "TRAINING DURATION: 8s\r\n",
      "\r\n",
      "NAME      STATUS   TRAINER  AGE  INSTANCE          NODE\r\n",
      "tf-mnist  RUNNING  TFJOB    8s   tf-mnist-chief-0  192.168.0.195\r\n",
      "\r\n",
      "Your tensorboard will be available on:\r\n",
      "192.168.0.114:30342   \r\n",
      "\r\n",
      "Events: \r\n",
      "No events for pending pod\r\n"
     ]
    }
   ],
   "source": [
    "! arena get $JOB_NAME -e 2>&1"
   ]
  },
  {
   "cell_type": "markdown",
   "metadata": {},
   "source": [
    "8.实时检查日志，此时可以通过调整`--tail=`的数值展示输出的行数。默认为显示全部日志。"
   ]
  },
  {
   "cell_type": "code",
   "execution_count": 8,
   "metadata": {},
   "outputs": [
    {
     "name": "stdout",
     "output_type": "stream",
     "text": [
      "2019-02-26T03:57:31.312378188Z WARNING:tensorflow:From /training/models/tensorflow-sample-code/tfjob/docker/mnist/main.py:40: read_data_sets (from tensorflow.contrib.learn.python.learn.datasets.mnist) is deprecated and will be removed in a future version.\r\n",
      "2019-02-26T03:57:31.312443004Z Instructions for updating:\r\n",
      "2019-02-26T03:57:31.312447518Z Please use alternatives such as official/mnist/dataset.py from tensorflow/models.\r\n",
      "2019-02-26T03:57:31.350637066Z WARNING:tensorflow:From /usr/local/lib/python3.5/dist-packages/tensorflow/contrib/learn/python/learn/datasets/mnist.py:260: maybe_download (from tensorflow.contrib.learn.python.learn.datasets.base) is deprecated and will be removed in a future version.\r\n",
      "2019-02-26T03:57:31.350652227Z Instructions for updating:\r\n",
      "2019-02-26T03:57:31.350655625Z Please write your own downloading logic.\r\n",
      "2019-02-26T03:57:31.352313809Z WARNING:tensorflow:From /usr/local/lib/python3.5/dist-packages/tensorflow/contrib/learn/python/learn/datasets/mnist.py:262: extract_images (from tensorflow.contrib.learn.python.learn.datasets.mnist) is deprecated and will be removed in a future version.\r\n",
      "2019-02-26T03:57:31.352324535Z Instructions for updating:\r\n",
      "2019-02-26T03:57:31.352327511Z Please use tf.data to implement this functionality.\r\n",
      "2019-02-26T03:57:31.624258839Z WARNING:tensorflow:From /usr/local/lib/python3.5/dist-packages/tensorflow/contrib/learn/python/learn/datasets/mnist.py:267: extract_labels (from tensorflow.contrib.learn.python.learn.datasets.mnist) is deprecated and will be removed in a future version.\r\n",
      "2019-02-26T03:57:31.624303155Z Instructions for updating:\r\n",
      "2019-02-26T03:57:31.624307137Z Please use tf.data to implement this functionality.\r\n",
      "2019-02-26T03:57:31.62797721Z WARNING:tensorflow:From /usr/local/lib/python3.5/dist-packages/tensorflow/contrib/learn/python/learn/datasets/mnist.py:110: dense_to_one_hot (from tensorflow.contrib.learn.python.learn.datasets.mnist) is deprecated and will be removed in a future version.\r\n",
      "2019-02-26T03:57:31.627988946Z Instructions for updating:\r\n",
      "2019-02-26T03:57:31.627992717Z Please use tf.one_hot on tensors.\r\n",
      "2019-02-26T03:57:31.685170093Z WARNING:tensorflow:From /usr/local/lib/python3.5/dist-packages/tensorflow/contrib/learn/python/learn/datasets/mnist.py:290: DataSet.__init__ (from tensorflow.contrib.learn.python.learn.datasets.mnist) is deprecated and will be removed in a future version.\r\n",
      "2019-02-26T03:57:31.68518571Z Instructions for updating:\r\n",
      "2019-02-26T03:57:31.68518911Z Please use alternatives such as official/mnist/dataset.py from tensorflow/models.\r\n",
      "2019-02-26T03:57:31.980321991Z WARNING:tensorflow:From /training/models/tensorflow-sample-code/tfjob/docker/mnist/main.py:119: softmax_cross_entropy_with_logits (from tensorflow.python.ops.nn_ops) is deprecated and will be removed in a future version.\r\n",
      "2019-02-26T03:57:31.980337674Z Instructions for updating:\r\n",
      "2019-02-26T03:57:31.980340794Z \r\n",
      "2019-02-26T03:57:31.980343485Z Future major versions of TensorFlow will allow gradients to flow\r\n",
      "2019-02-26T03:57:31.980346487Z into the labels input on backprop by default.\r\n",
      "2019-02-26T03:57:31.980349364Z \r\n",
      "2019-02-26T03:57:31.980351967Z See `tf.nn.softmax_cross_entropy_with_logits_v2`.\r\n",
      "2019-02-26T03:57:31.980365895Z \r\n",
      "2019-02-26T03:57:32.145826778Z 2019-02-26 03:57:32.145484: I tensorflow/core/platform/cpu_feature_guard.cc:141] Your CPU supports instructions that this TensorFlow binary was not compiled to use: AVX2 FMA\r\n",
      "2019-02-26T03:57:32.654414205Z 2019-02-26 03:57:32.654154: I tensorflow/stream_executor/cuda/cuda_gpu_executor.cc:964] successful NUMA node read from SysFS had negative value (-1), but there must be at least one NUMA node, so returning NUMA node zero\r\n",
      "2019-02-26T03:57:32.669067523Z 2019-02-26 03:57:32.668901: I tensorflow/core/common_runtime/gpu/gpu_device.cc:1411] Found device 0 with properties: \r\n",
      "2019-02-26T03:57:32.669076101Z name: Tesla P100-PCIE-16GB major: 6 minor: 0 memoryClockRate(GHz): 1.3285\r\n",
      "2019-02-26T03:57:32.669079036Z pciBusID: 0000:00:0d.0\r\n",
      "2019-02-26T03:57:32.669081589Z totalMemory: 15.89GiB freeMemory: 15.60GiB\r\n",
      "2019-02-26T03:57:32.669084283Z 2019-02-26 03:57:32.668952: I tensorflow/core/common_runtime/gpu/gpu_device.cc:1490] Adding visible gpu devices: 0\r\n",
      "2019-02-26T03:57:33.079244435Z 2019-02-26 03:57:33.078910: I tensorflow/core/common_runtime/gpu/gpu_device.cc:971] Device interconnect StreamExecutor with strength 1 edge matrix:\r\n",
      "2019-02-26T03:57:33.07928167Z 2019-02-26 03:57:33.078979: I tensorflow/core/common_runtime/gpu/gpu_device.cc:977]      0 \r\n",
      "2019-02-26T03:57:33.079286192Z 2019-02-26 03:57:33.078989: I tensorflow/core/common_runtime/gpu/gpu_device.cc:990] 0:   N \r\n",
      "2019-02-26T03:57:33.080087713Z 2019-02-26 03:57:33.079937: I tensorflow/core/common_runtime/gpu/gpu_device.cc:1103] Created TensorFlow device (/job:localhost/replica:0/task:0/device:GPU:0 with 15117 MB memory) -> physical GPU (device: 0, name: Tesla P100-PCIE-16GB, pci bus id: 0000:00:0d.0, compute capability: 6.0)\r\n",
      "2019-02-26T03:57:38.70854849Z 2019-02-26 03:57:38.708300: I tensorflow/stream_executor/dso_loader.cc:151] successfully opened CUDA library libcupti.so.9.0 locally\r\n"
     ]
    }
   ],
   "source": [
    "! arena logs --tail=50 $JOB_NAME"
   ]
  },
  {
   "cell_type": "markdown",
   "metadata": {},
   "source": [
    "9.查看实时训练的GPU使用情况"
   ]
  },
  {
   "cell_type": "code",
   "execution_count": 9,
   "metadata": {},
   "outputs": [
    {
     "name": "stdout",
     "output_type": "stream",
     "text": [
      "INSTANCE NAME     GPU(Device Index)  GPU(Duty Cycle)  GPU(Memory MiB)         STATUS   NODE\r\n",
      "tf-mnist-chief-0  5                  0%               549.0MiB / 16276.2MiB   Running  192.168.0.194\r\n"
     ]
    }
   ],
   "source": [
    "! arena top job $JOB_NAME"
   ]
  },
  {
   "cell_type": "markdown",
   "metadata": {},
   "source": [
    "10.通过TensorBoard查看训练趋势。您可以使用 `192.168.1.117:30670` 访问 Tensorboard。如果您通过笔记本电脑无法直接访问 Tensorboard，可以考虑在您的笔记本电脑使用 `sshuttle`。例如：`sshuttle -r root@41.82.59.51 192.168.0.0/16`。其中`41.82.59.51`为集群内某个节点的外网IP，且该外网IP可以通过ssh访问。"
   ]
  },
  {
   "cell_type": "code",
   "execution_count": 10,
   "metadata": {
    "scrolled": false
   },
   "outputs": [
    {
     "name": "stdout",
     "output_type": "stream",
     "text": [
      "STATUS: RUNNING\r\n",
      "NAMESPACE: default\r\n",
      "TRAINING DURATION: 35s\r\n",
      "\r\n",
      "NAME      STATUS   TRAINER  AGE  INSTANCE          NODE\r\n",
      "tf-mnist  RUNNING  TFJOB    35s  tf-mnist-chief-0  192.168.0.195\r\n",
      "\r\n",
      "Your tensorboard will be available on:\r\n",
      "192.168.0.114:30342   \r\n"
     ]
    }
   ],
   "source": [
    "# show job detail\n",
    "! arena get $JOB_NAME"
   ]
  },
  {
   "cell_type": "markdown",
   "metadata": {},
   "source": [
    "![](1-1-tensorboard.jpg)"
   ]
  },
  {
   "cell_type": "markdown",
   "metadata": {},
   "source": [
    "11.查看模型训练产生的结果, 在`output`下生成了训练结果"
   ]
  },
  {
   "cell_type": "code",
   "execution_count": 11,
   "metadata": {},
   "outputs": [
    {
     "name": "stdout",
     "output_type": "stream",
     "text": [
      "/root\r\n",
      "|-- dataset\r\n",
      "|   `-- mnist\r\n",
      "|       |-- t10k-images-idx3-ubyte.gz\r\n",
      "|       |-- t10k-labels-idx1-ubyte.gz\r\n",
      "|       |-- train-images-idx3-ubyte.gz\r\n",
      "|       `-- train-labels-idx1-ubyte.gz\r\n",
      "|-- models\r\n",
      "|   `-- tensorflow-sample-code\r\n",
      "|       |-- README.md\r\n",
      "|       |-- data\r\n",
      "|       |-- mnist-tf\r\n",
      "|       |-- models\r\n",
      "|       |-- mpijob\r\n",
      "|       `-- tfjob\r\n",
      "`-- output\r\n",
      "    `-- mnist\r\n",
      "        |-- test\r\n",
      "        `-- train\r\n",
      "\r\n",
      "13 directories, 5 files\r\n"
     ]
    }
   ],
   "source": [
    "! tree -I ai-starter -L 3 ${HOME}"
   ]
  },
  {
   "cell_type": "markdown",
   "metadata": {},
   "source": [
    "12.删除已经完成的任务"
   ]
  },
  {
   "cell_type": "code",
   "execution_count": 12,
   "metadata": {},
   "outputs": [
    {
     "name": "stdout",
     "output_type": "stream",
     "text": [
      "service \"tf-mnist-tensorboard\" deleted\n",
      "deployment.extensions \"tf-mnist-tensorboard\" deleted\n",
      "tfjob.kubeflow.org \"tf-mnist\" deleted\n",
      "configmap \"tf-mnist-tfjob\" deleted\n",
      "\u001b[36mINFO\u001b[0m[0002] The Job tf-mnist has been deleted successfully \n"
     ]
    }
   ],
   "source": [
    "# delete job\n",
    "! arena delete $JOB_NAME"
   ]
  },
  {
   "cell_type": "markdown",
   "metadata": {},
   "source": [
    "恭喜！您已经使用 `arena` 成功运行了训练作业，而且还能轻松检查 Tensorboard。\n",
    "\n",
    "总结，希望您通过本次演示了解：\n",
    "1. 如何准备代码和数据，并将其放入数据卷中\n",
    "2. 如何在训练任务中引用数据卷，并且使用其中的代码和数据\n",
    "3. 如何利用arena管理您的训练任务。\n",
    "\n",
    "以上是使用`Arena`在云上进行模型训练的例子，您可以通过修改代码`${HOME}/models/tensorflow-sample-code/tfjob/docker/mnist/main.py`重新提交，实现迭代的模型开发目的。"
   ]
  }
 ],
 "metadata": {
  "kernelspec": {
   "display_name": "Python 3",
   "language": "python",
   "name": "python3"
  },
  "language_info": {
   "codemirror_mode": {
    "name": "ipython",
    "version": 3
   },
   "file_extension": ".py",
   "mimetype": "text/x-python",
   "name": "python",
   "nbconvert_exporter": "python",
   "pygments_lexer": "ipython3",
   "version": "3.5.2"
  }
 },
 "nbformat": 4,
 "nbformat_minor": 2
}
