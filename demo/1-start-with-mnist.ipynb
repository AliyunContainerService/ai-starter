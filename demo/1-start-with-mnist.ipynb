{
 "cells": [
  {
   "cell_type": "markdown",
   "metadata": {},
   "source": [
    "# 入门云原生AI - 1. 从mnist开始体验\n",
    "\n",
    "在这个示例中，我们将演示：\n",
    "\n",
    "* 下载并准备数据\n",
    "* 利用Arena提交单机训练任务,并且查看训练任务状态和日志\n",
    "* 通过TensorBoard查看训练任务\n",
    "\n",
    "> 前提：请先完成文档中的[共享存储配置](../docs/setup/SETUP_NAS.md)，当前${HOME}就是其中`training-data`的数据卷对应目录。"
   ]
  },
  {
   "cell_type": "markdown",
   "metadata": {},
   "source": [
    "1.下载TensorFlow样例源代码到${HOME}/models目录"
   ]
  },
  {
   "cell_type": "code",
   "execution_count": 1,
   "metadata": {
    "scrolled": true
   },
   "outputs": [
    {
     "name": "stdout",
     "output_type": "stream",
     "text": [
      "Cloning into '/root/models/tensorflow-sample-code'...\n",
      "remote: Enumerating objects: 242, done.\u001b[K\n",
      "remote: Counting objects: 100% (242/242), done.\u001b[K\n",
      "remote: Compressing objects: 100% (112/112), done.\u001b[K\n",
      "remote: Total 242 (delta 93), reused 242 (delta 93)\u001b[KiB/s   \n",
      "Receiving objects: 100% (242/242), 11.25 MiB | 22.15 MiB/s, done.\n",
      "Resolving deltas: 100% (93/93), done.\n",
      "Checking connectivity... done.\n"
     ]
    }
   ],
   "source": [
    "! git clone https://code.aliyun.com/xiaozhou/tensorflow-sample-code.git ${HOME}/models/tensorflow-sample-code"
   ]
  },
  {
   "cell_type": "markdown",
   "metadata": {},
   "source": [
    "2.下载mnist数据到${HOME}/dataset/mnist"
   ]
  },
  {
   "cell_type": "code",
   "execution_count": 2,
   "metadata": {
    "scrolled": false
   },
   "outputs": [
    {
     "name": "stdout",
     "output_type": "stream",
     "text": [
      "  % Total    % Received % Xferd  Average Speed   Time    Time     Time  Current\n",
      "                                 Dload  Upload   Total   Spent    Left  Speed\n",
      "100 1610k    0 1610k    0     0  2432k      0 --:--:-- --:--:-- --:--:-- 2432k\n",
      "  % Total    % Received % Xferd  Average Speed   Time    Time     Time  Current\n",
      "                                 Dload  Upload   Total   Spent    Left  Speed\n",
      "100  4542    0  4542    0     0  13465      0 --:--:-- --:--:-- --:--:-- 13477\n",
      "  % Total    % Received % Xferd  Average Speed   Time    Time     Time  Current\n",
      "                                 Dload  Upload   Total   Spent    Left  Speed\n",
      "100 9680k    0 9680k    0     0  12.7M      0 --:--:-- --:--:-- --:--:-- 12.7M\n",
      "  % Total    % Received % Xferd  Average Speed   Time    Time     Time  Current\n",
      "                                 Dload  Upload   Total   Spent    Left  Speed\n",
      "100 28881    0 28881    0     0  83500      0 --:--:-- --:--:-- --:--:-- 83713\n"
     ]
    }
   ],
   "source": [
    "! mkdir -p ${HOME}/dataset/mnist && \\\n",
    "  cd ${HOME}/dataset/mnist && \\\n",
    "  curl -O https://code.aliyun.com/xiaozhou/tensorflow-sample-code/raw/master/data/t10k-images-idx3-ubyte.gz && \\\n",
    "  curl -O https://code.aliyun.com/xiaozhou/tensorflow-sample-code/raw/master/data/t10k-labels-idx1-ubyte.gz && \\\n",
    "  curl -O https://code.aliyun.com/xiaozhou/tensorflow-sample-code/raw/master/data/train-images-idx3-ubyte.gz && \\\n",
    "  curl -O https://code.aliyun.com/xiaozhou/tensorflow-sample-code/raw/master/data/train-labels-idx1-ubyte.gz"
   ]
  },
  {
   "cell_type": "markdown",
   "metadata": {},
   "source": [
    "3.创建训练结果${HOME}/output"
   ]
  },
  {
   "cell_type": "code",
   "execution_count": 1,
   "metadata": {},
   "outputs": [],
   "source": [
    "! mkdir -p ${HOME}/output"
   ]
  },
  {
   "cell_type": "markdown",
   "metadata": {},
   "source": [
    "4.查看目录结构, 其中`dataset`是数据目录，`models`是模型代码目录，`output`是训练结果目录。"
   ]
  },
  {
   "cell_type": "code",
   "execution_count": 3,
   "metadata": {},
   "outputs": [
    {
     "name": "stdout",
     "output_type": "stream",
     "text": [
      "/root\r\n",
      "|-- dataset\r\n",
      "|   `-- mnist\r\n",
      "|       |-- t10k-images-idx3-ubyte.gz\r\n",
      "|       |-- t10k-labels-idx1-ubyte.gz\r\n",
      "|       |-- train-images-idx3-ubyte.gz\r\n",
      "|       `-- train-labels-idx1-ubyte.gz\r\n",
      "|-- models\r\n",
      "|   `-- tensorflow-sample-code\r\n",
      "|       |-- README.md\r\n",
      "|       |-- data\r\n",
      "|       |-- mnist-tf\r\n",
      "|       |-- models\r\n",
      "|       |-- mpijob\r\n",
      "|       `-- tfjob\r\n",
      "`-- output\r\n",
      "\r\n",
      "10 directories, 5 files\r\n"
     ]
    }
   ],
   "source": [
    "! tree -I ai-starter -L 3 ${HOME}"
   ]
  },
  {
   "cell_type": "markdown",
   "metadata": {},
   "source": [
    "5.检查可用GPU资源"
   ]
  },
  {
   "cell_type": "code",
   "execution_count": 4,
   "metadata": {},
   "outputs": [
    {
     "name": "stdout",
     "output_type": "stream",
     "text": [
      "NAME                                 IPADDRESS      ROLE    GPU(Total)  GPU(Allocated)\r\n",
      "cn-huhehaote.i-hp309790vg0alb65q123  192.168.0.116  master  0           0\r\n",
      "cn-huhehaote.i-hp32to8ln1xdug4rk123  192.168.0.194  <none>  8           0\r\n",
      "cn-huhehaote.i-hp32to8ln1xdug4rk123  192.168.0.195  <none>  8           0\r\n",
      "cn-huhehaote.i-hp3b4qysu7phej5q2123  192.168.0.115  master  0           0\r\n",
      "cn-huhehaote.i-hp3b4qysu7phen3sa123  192.168.0.118  <none>  8           0\r\n",
      "cn-huhehaote.i-hp3b4qysu7phen3sa123  192.168.0.117  <none>  8           0\r\n",
      "cn-huhehaote.i-hp3dc30s7ew8nbmtq123  192.168.0.114  master  0           0\r\n",
      "-----------------------------------------------------------------------------------------\r\n",
      "Allocated/Total GPUs In Cluster:\r\n",
      "0/32 (0%)  \r\n"
     ]
    }
   ],
   "source": [
    "! arena top node"
   ]
  },
  {
   "cell_type": "markdown",
   "metadata": {},
   "source": [
    "6.通过Arena提交训练任务, 这里`training-data`在配置[共享存储时](../docs/setup/SETUP_NAS.md)创建.   \n",
    "`--data=training-data:/training`将其映射到训练任务的`/training`目录。而`/training`目录下的子目录`/training/models/tensorflow-sample-code`就是步骤1拷贝源代码的位置，`/training`目录下的子目录`/training/dataset/mnist`就是步骤2下载数据的位置, `/training`目录下的子目录`/training/output`就是步骤3创建的训练结果输出的位置。"
   ]
  },
  {
   "cell_type": "code",
   "execution_count": 5,
   "metadata": {},
   "outputs": [
    {
     "name": "stdout",
     "output_type": "stream",
     "text": [
      "configmap/tf-mnist-tfjob created\n",
      "configmap/tf-mnist-tfjob labeled\n",
      "service/tf-mnist-tensorboard created\n",
      "deployment.extensions/tf-mnist-tensorboard created\n",
      "tfjob.kubeflow.org/tf-mnist created\n",
      "\u001b[36mINFO\u001b[0m[0002] The Job tf-mnist has been submitted successfully \n",
      "\u001b[36mINFO\u001b[0m[0002] You can run `arena get tf-mnist --type tfjob` to check the job status \n"
     ]
    }
   ],
   "source": [
    "# Submit a training job \n",
    "# using code and data from NAS\n",
    "!arena submit tf \\\n",
    "             --name=tf-mnist \\\n",
    "             --gpus=1 \\\n",
    "             --data=training-data:/training \\\n",
    "             --tensorboard \\\n",
    "             --image=tensorflow/tensorflow:1.11.0-gpu-py3 \\\n",
    "             --logdir=/training/output/mnist \\\n",
    "             \"python /training/models/tensorflow-sample-code/tfjob/docker/mnist/main.py --max_steps 10000 --data_dir /training/dataset/mnist --log_dir /training/output/mnist\""
   ]
  },
  {
   "cell_type": "markdown",
   "metadata": {},
   "source": [
    "> 完整参数可以参考[命令行文档](https://github.com/kubeflow/arena/blob/master/docs/cli/arena_submit_tfjob.md)"
   ]
  },
  {
   "cell_type": "markdown",
   "metadata": {},
   "source": [
    "7.检查模型训练状态，当任务状态从`Pending`转为`Running`后就可以查看日志和GPU使用率了。这里`-e`为了方便检查任务`Pending`的原因。通常看到`[Pulling] pulling image \"tensorflow/tensorflow:1.11.0-gpu-py3\"`代表容器镜像过大，导致任务处于`Pending`。这时可以重复执行下列命令直到任务状态变为`Running`。"
   ]
  },
  {
   "cell_type": "code",
   "execution_count": 6,
   "metadata": {},
   "outputs": [
    {
     "name": "stdout",
     "output_type": "stream",
     "text": [
      "STATUS: RUNNING\r\n",
      "NAMESPACE: default\r\n",
      "TRAINING DURATION: 2m\r\n",
      "\r\n",
      "NAME      STATUS   TRAINER  AGE  INSTANCE          NODE\r\n",
      "tf-mnist  RUNNING  TFJOB    2m   tf-mnist-chief-0  192.168.0.195\r\n",
      "\r\n",
      "Your tensorboard will be available on:\r\n",
      "192.168.0.114:32033   \r\n",
      "\r\n",
      "Events: \r\n",
      "No events for pending pod\r\n"
     ]
    }
   ],
   "source": [
    "! arena get tf-mnist -e 2>&1"
   ]
  },
  {
   "cell_type": "markdown",
   "metadata": {},
   "source": [
    "8.实时检查日志，此时可以通过调整`--tail=`的数值展示输出的行数。默认为显示全部日志。"
   ]
  },
  {
   "cell_type": "code",
   "execution_count": 7,
   "metadata": {},
   "outputs": [
    {
     "name": "stdout",
     "output_type": "stream",
     "text": [
      "2019-02-24T08:23:31.966742305Z Accuracy at step 2910: 0.9763\r\n",
      "2019-02-24T08:23:31.966745129Z Accuracy at step 2920: 0.9758\r\n",
      "2019-02-24T08:23:31.966747691Z Accuracy at step 2930: 0.9786\r\n",
      "2019-02-24T08:23:31.966750374Z Accuracy at step 2940: 0.9797\r\n",
      "2019-02-24T08:23:31.966752916Z Accuracy at step 2950: 0.9769\r\n",
      "2019-02-24T08:23:31.966755635Z Accuracy at step 2960: 0.9795\r\n",
      "2019-02-24T08:23:31.966758184Z Accuracy at step 2970: 0.9781\r\n",
      "2019-02-24T08:23:31.96676086Z Accuracy at step 2980: 0.9766\r\n",
      "2019-02-24T08:23:31.966763492Z Accuracy at step 2990: 0.978\r\n",
      "2019-02-24T08:23:31.966766177Z Adding run metadata for 2999\r\n",
      "2019-02-24T08:23:31.966768713Z Accuracy at step 3000: 0.9775\r\n",
      "2019-02-24T08:23:31.966771528Z Accuracy at step 3010: 0.9775\r\n",
      "2019-02-24T08:23:31.9667741Z Accuracy at step 3020: 0.9765\r\n",
      "2019-02-24T08:23:31.966776843Z Accuracy at step 3030: 0.9799\r\n",
      "2019-02-24T08:23:31.966779416Z Accuracy at step 3040: 0.979\r\n",
      "2019-02-24T08:23:31.966782123Z Accuracy at step 3050: 0.9789\r\n",
      "2019-02-24T08:23:31.966784683Z Accuracy at step 3060: 0.9783\r\n",
      "2019-02-24T08:23:31.966787377Z Accuracy at step 3070: 0.9792\r\n",
      "2019-02-24T08:23:31.966789948Z Accuracy at step 3080: 0.9796\r\n",
      "2019-02-24T08:23:31.966794683Z Accuracy at step 3090: 0.9798\r\n",
      "2019-02-24T08:23:31.966797546Z Adding run metadata for 3099\r\n",
      "2019-02-24T08:23:31.966803938Z Accuracy at step 3100: 0.9798\r\n",
      "2019-02-24T08:23:31.966806643Z Accuracy at step 3110: 0.9789\r\n",
      "2019-02-24T08:23:31.966809271Z Accuracy at step 3120: 0.9788\r\n",
      "2019-02-24T08:23:31.966811818Z Accuracy at step 3130: 0.9802\r\n",
      "2019-02-24T08:23:31.966814383Z Accuracy at step 3140: 0.98\r\n",
      "2019-02-24T08:23:31.966816968Z Accuracy at step 3150: 0.9799\r\n",
      "2019-02-24T08:23:31.966819551Z Accuracy at step 3160: 0.9793\r\n",
      "2019-02-24T08:23:31.966822135Z Accuracy at step 3170: 0.9787\r\n",
      "2019-02-24T08:23:31.966824709Z Accuracy at step 3180: 0.979\r\n",
      "2019-02-24T08:23:31.966827304Z Accuracy at step 3190: 0.9802\r\n",
      "2019-02-24T08:23:31.966829874Z Adding run metadata for 3199\r\n",
      "2019-02-24T08:23:31.966832429Z Accuracy at step 3200: 0.9766\r\n",
      "2019-02-24T08:23:31.966835027Z Accuracy at step 3210: 0.9786\r\n",
      "2019-02-24T08:23:31.9668376Z Accuracy at step 3220: 0.977\r\n",
      "2019-02-24T08:23:31.966840237Z Accuracy at step 3230: 0.9788\r\n",
      "2019-02-24T08:23:31.966842834Z Accuracy at step 3240: 0.9791\r\n",
      "2019-02-24T08:23:31.966845402Z Accuracy at step 3250: 0.9802\r\n",
      "2019-02-24T08:23:31.966847962Z Accuracy at step 3260: 0.9799\r\n",
      "2019-02-24T08:23:31.966850688Z Accuracy at step 3270: 0.9802\r\n",
      "2019-02-24T08:23:31.966853245Z Accuracy at step 3280: 0.9802\r\n",
      "2019-02-24T08:23:31.966855903Z Accuracy at step 3290: 0.9797\r\n",
      "2019-02-24T08:23:31.966858472Z Adding run metadata for 3299\r\n",
      "2019-02-24T08:23:31.966861141Z Accuracy at step 3300: 0.9784\r\n",
      "2019-02-24T08:23:31.966863703Z Accuracy at step 3310: 0.9778\r\n",
      "2019-02-24T08:23:31.966866401Z Accuracy at step 3320: 0.9791\r\n",
      "2019-02-24T08:23:31.966868956Z Accuracy at step 3330: 0.9793\r\n",
      "2019-02-24T08:23:31.966871663Z Accuracy at step 3340: 0.9792\r\n",
      "2019-02-24T08:23:31.966874246Z Accuracy at step 3350: 0.9793\r\n",
      "2019-02-24T08:23:31.966876927Z Accuracy at step 3360: 0.9801\r\n",
      "2019-02-24T08:23:31.966879476Z Accuracy at step 3370: 0.9807\r\n",
      "2019-02-24T08:23:31.966882215Z Accuracy at step 3380: 0.9808\r\n",
      "2019-02-24T08:23:31.966884779Z Accuracy at step 3390: 0.9807\r\n",
      "2019-02-24T08:23:31.966887478Z Adding run metadata for 3399\r\n",
      "2019-02-24T08:23:31.96689006Z Accuracy at step 3400: 0.9785\r\n",
      "2019-02-24T08:23:31.966892817Z Accuracy at step 3410: 0.9791\r\n",
      "2019-02-24T08:23:31.966895369Z Accuracy at step 3420: 0.9789\r\n",
      "2019-02-24T08:23:31.966898046Z Accuracy at step 3430: 0.9779\r\n",
      "2019-02-24T08:23:31.966900611Z Accuracy at step 3440: 0.9798\r\n",
      "2019-02-24T08:23:31.966903284Z Accuracy at step 3450: 0.9799\r\n",
      "2019-02-24T08:23:31.966905878Z Accuracy at step 3460: 0.9794\r\n",
      "2019-02-24T08:23:31.966908559Z Accuracy at step 3470: 0.9813\r\n",
      "2019-02-24T08:23:31.966914379Z Accuracy at step 3480: 0.9815\r\n",
      "2019-02-24T08:23:31.966917086Z Accuracy at step 3490: 0.9791\r\n",
      "2019-02-24T08:23:31.966919846Z Adding run metadata for 3499\r\n",
      "2019-02-24T08:23:31.9669225Z Accuracy at step 3500: 0.9797\r\n",
      "2019-02-24T08:23:31.966925073Z Accuracy at step 3510: 0.9767\r\n",
      "2019-02-24T08:23:31.966927689Z Accuracy at step 3520: 0.9755\r\n",
      "2019-02-24T08:23:31.966930238Z Accuracy at step 3530: 0.9795\r\n",
      "2019-02-24T08:23:31.966932806Z Accuracy at step 3540: 0.9791\r\n",
      "2019-02-24T08:23:31.966935386Z Accuracy at step 3550: 0.9765\r\n",
      "2019-02-24T08:23:31.966937958Z Accuracy at step 3560: 0.9778\r\n",
      "2019-02-24T08:23:31.966940544Z Accuracy at step 3570: 0.9794\r\n",
      "2019-02-24T08:23:31.96694311Z Accuracy at step 3580: 0.9791\r\n",
      "2019-02-24T08:23:31.966945677Z Accuracy at step 3590: 0.9808\r\n",
      "2019-02-24T08:23:31.966948333Z Adding run metadata for 3599\r\n",
      "2019-02-24T08:23:31.96695089Z Accuracy at step 3600: 0.9796\r\n",
      "2019-02-24T08:23:31.966953499Z Accuracy at step 3610: 0.979\r\n",
      "2019-02-24T08:23:31.966956046Z Accuracy at step 3620: 0.9781\r\n",
      "2019-02-24T08:23:31.966958611Z Accuracy at step 3630: 0.9771\r\n",
      "2019-02-24T08:23:31.966961189Z Accuracy at step 3640: 0.978\r\n",
      "2019-02-24T08:23:31.966963778Z Accuracy at step 3650: 0.9782\r\n",
      "2019-02-24T08:23:31.966966336Z Accuracy at step 3660: 0.978\r\n",
      "2019-02-24T08:23:31.966968931Z Accuracy at step 3670: 0.9801\r\n",
      "2019-02-24T08:23:31.966971512Z Accuracy at step 3680: 0.9804\r\n",
      "2019-02-24T08:23:31.966974082Z Accuracy at step 3690: 0.9812\r\n",
      "2019-02-24T08:23:31.966976672Z Adding run metadata for 3699\r\n",
      "2019-02-24T08:23:31.966979251Z Accuracy at step 3700: 0.9805\r\n",
      "2019-02-24T08:23:31.966982506Z Accuracy at step 3710: 0.979\r\n",
      "2019-02-24T08:23:31.966985232Z Accuracy at step 3720: 0.9801\r\n",
      "2019-02-24T08:23:31.966987815Z Accuracy at step 3730: 0.9803\r\n",
      "2019-02-24T08:23:31.966990384Z Accuracy at step 3740: 0.9799\r\n",
      "2019-02-24T08:23:31.966992962Z Accuracy at step 3750: 0.9797\r\n",
      "2019-02-24T08:23:31.96699553Z Accuracy at step 3760: 0.9796\r\n",
      "2019-02-24T08:23:31.966998084Z Accuracy at step 3770: 0.9793\r\n",
      "2019-02-24T08:23:31.967000689Z Accuracy at step 3780: 0.9801\r\n",
      "2019-02-24T08:23:31.967003231Z Accuracy at step 3790: 0.979\r\n",
      "2019-02-24T08:23:31.967005812Z Adding run metadata for 3799\r\n",
      "2019-02-24T08:23:31.967008362Z Accuracy at step 3800: 0.9802\r\n",
      "2019-02-24T08:23:31.967010929Z Accuracy at step 3810: 0.9802\r\n",
      "2019-02-24T08:23:31.967013508Z Accuracy at step 3820: 0.9804\r\n",
      "2019-02-24T08:23:31.967016094Z Accuracy at step 3830: 0.9788\r\n",
      "2019-02-24T08:23:31.967018679Z Accuracy at step 3840: 0.9801\r\n",
      "2019-02-24T08:23:31.967024031Z Accuracy at step 3850: 0.9804\r\n",
      "2019-02-24T08:23:31.967026714Z Accuracy at step 3860: 0.9806\r\n",
      "2019-02-24T08:23:31.967029308Z Accuracy at step 3870: 0.9806\r\n",
      "2019-02-24T08:23:31.967031889Z Accuracy at step 3880: 0.9799\r\n",
      "2019-02-24T08:23:31.967034486Z Accuracy at step 3890: 0.9781\r\n",
      "2019-02-24T08:23:31.967037049Z Adding run metadata for 3899\r\n",
      "2019-02-24T08:23:31.967039618Z Accuracy at step 3900: 0.9809\r\n",
      "2019-02-24T08:23:31.967042201Z Accuracy at step 3910: 0.9784\r\n",
      "2019-02-24T08:23:31.967044746Z Accuracy at step 3920: 0.9802\r\n",
      "2019-02-24T08:23:31.967047329Z Accuracy at step 3930: 0.9804\r\n",
      "2019-02-24T08:23:31.967049927Z Accuracy at step 3940: 0.9806\r\n",
      "2019-02-24T08:23:31.967052494Z Accuracy at step 3950: 0.9805\r\n",
      "2019-02-24T08:23:31.96705506Z Accuracy at step 3960: 0.981\r\n",
      "2019-02-24T08:23:31.967057646Z Accuracy at step 3970: 0.9809\r\n",
      "2019-02-24T08:23:31.967060223Z Accuracy at step 3980: 0.9805\r\n",
      "2019-02-24T08:23:31.967062783Z Accuracy at step 3990: 0.9806\r\n",
      "2019-02-24T08:23:31.96706534Z Adding run metadata for 3999\r\n",
      "2019-02-24T08:23:31.967067891Z Accuracy at step 4000: 0.9793\r\n",
      "2019-02-24T08:23:31.96707048Z Accuracy at step 4010: 0.9796\r\n",
      "2019-02-24T08:23:31.967073035Z Accuracy at step 4020: 0.9806\r\n",
      "2019-02-24T08:23:31.9670756Z Accuracy at step 4030: 0.9793\r\n",
      "2019-02-24T08:23:31.967078206Z Accuracy at step 4040: 0.9788\r\n",
      "2019-02-24T08:23:31.967080774Z Accuracy at step 4050: 0.9792\r\n",
      "2019-02-24T08:23:31.967083328Z Accuracy at step 4060: 0.9808\r\n",
      "2019-02-24T08:23:31.967085942Z Accuracy at step 4070: 0.9794\r\n",
      "2019-02-24T08:23:31.967088522Z Accuracy at step 4080: 0.9816\r\n",
      "2019-02-24T08:23:31.967092661Z Accuracy at step 4090: 0.9816\r\n",
      "2019-02-24T08:23:31.967095307Z Adding run metadata for 4099\r\n",
      "2019-02-24T08:23:31.967097856Z Accuracy at step 4100: 0.9807\r\n",
      "2019-02-24T08:23:31.967100462Z Accuracy at step 4110: 0.9805\r\n",
      "2019-02-24T08:23:31.967103064Z Accuracy at step 4120: 0.9807\r\n",
      "2019-02-24T08:23:31.967105616Z Accuracy at step 4130: 0.9805\r\n",
      "2019-02-24T08:23:31.967108171Z Accuracy at step 4140: 0.9806\r\n",
      "2019-02-24T08:23:31.967110763Z Accuracy at step 4150: 0.9799\r\n",
      "2019-02-24T08:23:31.967113326Z Accuracy at step 4160: 0.9801\r\n",
      "2019-02-24T08:23:31.967115883Z Accuracy at step 4170: 0.9803\r\n",
      "2019-02-24T08:23:31.967118477Z Accuracy at step 4180: 0.98\r\n",
      "2019-02-24T08:23:31.96712105Z Accuracy at step 4190: 0.9801\r\n",
      "2019-02-24T08:23:31.96712372Z Adding run metadata for 4199\r\n",
      "2019-02-24T08:23:31.967126403Z Accuracy at step 4200: 0.9799\r\n",
      "2019-02-24T08:23:31.96712899Z Accuracy at step 4210: 0.9789\r\n",
      "2019-02-24T08:23:31.967135116Z Accuracy at step 4220: 0.9797\r\n",
      "2019-02-24T08:23:31.967137761Z Accuracy at step 4230: 0.9804\r\n",
      "2019-02-24T08:23:31.967140489Z Accuracy at step 4240: 0.9791\r\n",
      "2019-02-24T08:23:31.96714305Z Accuracy at step 4250: 0.9785\r\n",
      "2019-02-24T08:23:31.967145601Z Accuracy at step 4260: 0.9784\r\n",
      "2019-02-24T08:23:31.967148268Z Accuracy at step 4270: 0.9791\r\n",
      "2019-02-24T08:23:31.967150805Z Accuracy at step 4280: 0.9798\r\n",
      "2019-02-24T08:23:31.967153348Z Accuracy at step 4290: 0.9796\r\n",
      "2019-02-24T08:23:31.967156039Z Adding run metadata for 4299\r\n",
      "2019-02-24T08:23:31.96715862Z Accuracy at step 4300: 0.9802\r\n",
      "2019-02-24T08:23:31.967161201Z Accuracy at step 4310: 0.9779\r\n",
      "2019-02-24T08:23:31.967163893Z Accuracy at step 4320: 0.9803\r\n",
      "2019-02-24T08:23:31.967166471Z Accuracy at step 4330: 0.9805\r\n",
      "2019-02-24T08:23:31.96717034Z Accuracy at step 4340: 0.982\r\n",
      "2019-02-24T08:23:31.967173098Z Accuracy at step 4350: 0.9816\r\n",
      "2019-02-24T08:23:31.967175713Z Accuracy at step 4360: 0.9788\r\n",
      "2019-02-24T08:23:31.967178305Z Accuracy at step 4370: 0.9814\r\n",
      "2019-02-24T08:23:31.967180845Z Accuracy at step 4380: 0.9799\r\n",
      "2019-02-24T08:23:31.967183393Z Accuracy at step 4390: 0.9816\r\n",
      "2019-02-24T08:23:31.967185965Z Adding run metadata for 4399\r\n",
      "2019-02-24T08:23:31.967188559Z Accuracy at step 4400: 0.9813\r\n",
      "2019-02-24T08:23:31.967191129Z Accuracy at step 4410: 0.9802\r\n",
      "2019-02-24T08:23:31.967193684Z Accuracy at step 4420: 0.9805\r\n",
      "2019-02-24T08:23:31.967196255Z Accuracy at step 4430: 0.9797\r\n",
      "2019-02-24T08:23:31.967198834Z Accuracy at step 4440: 0.9801\r\n",
      "2019-02-24T08:23:31.967201372Z Accuracy at step 4450: 0.9808\r\n",
      "2019-02-24T08:23:31.967203924Z Accuracy at step 4460: 0.9808\r\n",
      "2019-02-24T08:23:31.967206484Z Accuracy at step 4470: 0.981\r\n",
      "2019-02-24T08:23:31.967215507Z Accuracy at step 4480: 0.9811\r\n",
      "2019-02-24T08:23:31.967218529Z Accuracy at step 4490: 0.9787\r\n",
      "2019-02-24T08:23:31.967221069Z Adding run metadata for 4499\r\n",
      "2019-02-24T08:23:31.967223665Z Accuracy at step 4500: 0.9816\r\n",
      "2019-02-24T08:23:31.967226201Z Accuracy at step 4510: 0.9804\r\n",
      "2019-02-24T08:23:31.967228766Z Accuracy at step 4520: 0.9794\r\n",
      "2019-02-24T08:23:31.967231409Z Accuracy at step 4530: 0.9795\r\n",
      "2019-02-24T08:23:31.967233993Z Accuracy at step 4540: 0.978\r\n",
      "2019-02-24T08:23:31.967236571Z Accuracy at step 4550: 0.98\r\n",
      "2019-02-24T08:23:31.967239299Z Accuracy at step 4560: 0.9787\r\n",
      "2019-02-24T08:23:31.96724183Z Accuracy at step 4570: 0.979\r\n",
      "2019-02-24T08:23:31.967244523Z Accuracy at step 4580: 0.9806\r\n",
      "2019-02-24T08:23:31.967247256Z Accuracy at step 4590: 0.9809\r\n",
      "2019-02-24T08:23:31.967249789Z Adding run metadata for 4599\r\n",
      "2019-02-24T08:23:31.967255798Z Accuracy at step 4600: 0.9802\r\n",
      "2019-02-24T08:23:31.96725852Z Accuracy at step 4610: 0.9809\r\n",
      "2019-02-24T08:23:31.967261233Z Accuracy at step 4620: 0.9803\r\n",
      "2019-02-24T08:23:31.9672638Z Accuracy at step 4630: 0.9801\r\n",
      "2019-02-24T08:23:31.967266457Z Accuracy at step 4640: 0.9797\r\n",
      "2019-02-24T08:23:31.967269033Z Accuracy at step 4650: 0.9807\r\n",
      "2019-02-24T08:23:31.967271706Z Accuracy at step 4660: 0.9803\r\n",
      "2019-02-24T08:23:31.96727436Z Accuracy at step 4670: 0.9795\r\n",
      "2019-02-24T08:23:31.967276932Z Accuracy at step 4680: 0.9791\r\n",
      "2019-02-24T08:23:31.96727962Z Accuracy at step 4690: 0.9804\r\n",
      "2019-02-24T08:23:31.967282304Z Adding run metadata for 4699\r\n",
      "2019-02-24T08:23:31.96728489Z Accuracy at step 4700: 0.9796\r\n",
      "2019-02-24T08:23:31.967287728Z Accuracy at step 4710: 0.9804\r\n",
      "2019-02-24T08:23:31.967290277Z Accuracy at step 4720: 0.9806\r\n",
      "2019-02-24T08:23:31.967292951Z Accuracy at step 4730: 0.9812\r\n",
      "2019-02-24T08:23:31.967295493Z Accuracy at step 4740: 0.9804\r\n",
      "2019-02-24T08:23:31.967298031Z Accuracy at step 4750: 0.9799\r\n",
      "2019-02-24T08:23:31.967300623Z Accuracy at step 4760: 0.98\r\n",
      "2019-02-24T08:23:31.967315904Z Accuracy at step 4770: 0.9801\r\n",
      "2019-02-24T08:23:31.967320509Z Accuracy at step 4780: 0.9802\r\n",
      "2019-02-24T08:23:31.967323157Z Accuracy at step 4790: 0.9789\r\n",
      "2019-02-24T08:23:31.967325738Z Adding run metadata for 4799\r\n",
      "2019-02-24T08:23:31.967328328Z Accuracy at step 4800: 0.9798\r\n",
      "2019-02-24T08:23:31.96733089Z Accuracy at step 4810: 0.9775\r\n",
      "2019-02-24T08:23:31.967333448Z Accuracy at step 4820: 0.9808\r\n",
      "2019-02-24T08:23:31.967336023Z Accuracy at step 4830: 0.9805\r\n",
      "2019-02-24T08:23:31.967338583Z Accuracy at step 4840: 0.9807\r\n",
      "2019-02-24T08:23:31.967341142Z Accuracy at step 4850: 0.9808\r\n",
      "2019-02-24T08:23:31.967343811Z Accuracy at step 4860: 0.9814\r\n",
      "2019-02-24T08:23:31.967346352Z Accuracy at step 4870: 0.9801\r\n",
      "2019-02-24T08:23:31.967349017Z Accuracy at step 4880: 0.9805\r\n",
      "2019-02-24T08:23:31.967351668Z Accuracy at step 4890: 0.9799\r\n",
      "2019-02-24T08:23:31.96735423Z Adding run metadata for 4899\r\n",
      "2019-02-24T08:23:31.967356918Z Accuracy at step 4900: 0.982\r\n",
      "2019-02-24T08:23:31.967359481Z Accuracy at step 4910: 0.9823\r\n",
      "2019-02-24T08:23:31.967362179Z Accuracy at step 4920: 0.9812\r\n",
      "2019-02-24T08:23:31.967364886Z Accuracy at step 4930: 0.9823\r\n",
      "2019-02-24T08:23:31.967367419Z Accuracy at step 4940: 0.9809\r\n",
      "2019-02-24T08:23:31.967369968Z Accuracy at step 4950: 0.9806\r\n",
      "2019-02-24T08:25:26.052873387Z Accuracy at step 4960: 0.981\r\n",
      "2019-02-24T08:25:26.052894563Z Accuracy at step 4970: 0.981\r\n",
      "2019-02-24T08:25:26.052908128Z Accuracy at step 4980: 0.9811\r\n",
      "2019-02-24T08:25:26.052911288Z Accuracy at step 4990: 0.98\r\n",
      "2019-02-24T08:25:26.052914127Z Adding run metadata for 4999\r\n",
      "2019-02-24T08:25:26.052916677Z Accuracy at step 5000: 0.9803\r\n",
      "2019-02-24T08:25:26.052919359Z Accuracy at step 5010: 0.9802\r\n",
      "2019-02-24T08:25:26.05292188Z Accuracy at step 5020: 0.9819\r\n",
      "2019-02-24T08:25:26.052924629Z Accuracy at step 5030: 0.9799\r\n",
      "2019-02-24T08:25:26.0529272Z Accuracy at step 5040: 0.9805\r\n",
      "2019-02-24T08:25:26.052929992Z Accuracy at step 5050: 0.9812\r\n",
      "2019-02-24T08:25:26.052932512Z Accuracy at step 5060: 0.9812\r\n",
      "2019-02-24T08:25:26.052935151Z Accuracy at step 5070: 0.9812\r\n",
      "2019-02-24T08:25:26.05293769Z Accuracy at step 5080: 0.9823\r\n",
      "2019-02-24T08:25:26.05294036Z Accuracy at step 5090: 0.9832\r\n",
      "2019-02-24T08:25:26.05294292Z Adding run metadata for 5099\r\n",
      "2019-02-24T08:25:26.052945584Z Accuracy at step 5100: 0.9833\r\n",
      "2019-02-24T08:25:26.052948151Z Accuracy at step 5110: 0.9831\r\n",
      "2019-02-24T08:25:26.052950834Z Accuracy at step 5120: 0.9802\r\n",
      "2019-02-24T08:25:26.052953366Z Accuracy at step 5130: 0.9794\r\n",
      "2019-02-24T08:25:26.052956041Z Accuracy at step 5140: 0.981\r\n",
      "2019-02-24T08:25:26.052958585Z Accuracy at step 5150: 0.9819\r\n",
      "2019-02-24T08:25:26.052961255Z Accuracy at step 5160: 0.9816\r\n",
      "2019-02-24T08:25:26.052963775Z Accuracy at step 5170: 0.9799\r\n",
      "2019-02-24T08:25:26.052966446Z Accuracy at step 5180: 0.9813\r\n",
      "2019-02-24T08:25:26.052968961Z Accuracy at step 5190: 0.981\r\n",
      "2019-02-24T08:25:26.052971945Z Adding run metadata for 5199\r\n",
      "2019-02-24T08:25:26.052974465Z Accuracy at step 5200: 0.9784\r\n",
      "2019-02-24T08:25:26.05297698Z Accuracy at step 5210: 0.9799\r\n",
      "2019-02-24T08:25:26.052979559Z Accuracy at step 5220: 0.98\r\n",
      "2019-02-24T08:25:26.05298211Z Accuracy at step 5230: 0.9809\r\n",
      "2019-02-24T08:25:26.052984646Z Accuracy at step 5240: 0.9813\r\n",
      "2019-02-24T08:25:26.052987175Z Accuracy at step 5250: 0.9801\r\n",
      "2019-02-24T08:25:26.0529897Z Accuracy at step 5260: 0.9798\r\n",
      "2019-02-24T08:25:26.052992313Z Accuracy at step 5270: 0.9805\r\n",
      "2019-02-24T08:25:26.052994863Z Accuracy at step 5280: 0.9794\r\n",
      "2019-02-24T08:25:26.052997375Z Accuracy at step 5290: 0.9794\r\n",
      "2019-02-24T08:25:26.052999921Z Adding run metadata for 5299\r\n",
      "2019-02-24T08:25:26.053002476Z Accuracy at step 5300: 0.9803\r\n",
      "2019-02-24T08:25:26.053005009Z Accuracy at step 5310: 0.9803\r\n",
      "2019-02-24T08:25:26.053007532Z Accuracy at step 5320: 0.9818\r\n",
      "2019-02-24T08:25:26.053010084Z Accuracy at step 5330: 0.9809\r\n",
      "2019-02-24T08:25:26.053012617Z Accuracy at step 5340: 0.9798\r\n",
      "2019-02-24T08:25:26.05301912Z Accuracy at step 5350: 0.9794\r\n",
      "2019-02-24T08:25:26.053022081Z Accuracy at step 5360: 0.9807\r\n",
      "2019-02-24T08:25:26.05302467Z Accuracy at step 5370: 0.9803\r\n",
      "2019-02-24T08:25:26.053027224Z Accuracy at step 5380: 0.9801\r\n",
      "2019-02-24T08:25:26.053029778Z Accuracy at step 5390: 0.9815\r\n",
      "2019-02-24T08:25:26.053032339Z Adding run metadata for 5399\r\n",
      "2019-02-24T08:25:26.053034882Z Accuracy at step 5400: 0.9814\r\n",
      "2019-02-24T08:25:26.053037406Z Accuracy at step 5410: 0.9805\r\n",
      "2019-02-24T08:25:26.053039938Z Accuracy at step 5420: 0.9809\r\n",
      "2019-02-24T08:25:26.053042509Z Accuracy at step 5430: 0.9799\r\n",
      "2019-02-24T08:25:26.053045014Z Accuracy at step 5440: 0.9794\r\n",
      "2019-02-24T08:25:26.053047515Z Accuracy at step 5450: 0.9787\r\n",
      "2019-02-24T08:25:26.053050062Z Accuracy at step 5460: 0.9807\r\n",
      "2019-02-24T08:25:26.053052602Z Accuracy at step 5470: 0.9811\r\n",
      "2019-02-24T08:25:26.053055117Z Accuracy at step 5480: 0.9787\r\n",
      "2019-02-24T08:25:26.053057658Z Accuracy at step 5490: 0.9804\r\n",
      "2019-02-24T08:25:26.053060187Z Adding run metadata for 5499\r\n",
      "2019-02-24T08:25:26.053062702Z Accuracy at step 5500: 0.9793\r\n",
      "2019-02-24T08:25:26.053065246Z Accuracy at step 5510: 0.9788\r\n",
      "2019-02-24T08:25:26.053067744Z Accuracy at step 5520: 0.9786\r\n",
      "2019-02-24T08:25:26.05307027Z Accuracy at step 5530: 0.9794\r\n",
      "2019-02-24T08:25:26.053072861Z Accuracy at step 5540: 0.9794\r\n",
      "2019-02-24T08:25:26.0530754Z Accuracy at step 5550: 0.9794\r\n",
      "2019-02-24T08:25:26.053077941Z Accuracy at step 5560: 0.9802\r\n",
      "2019-02-24T08:25:26.053080474Z Accuracy at step 5570: 0.9805\r\n",
      "2019-02-24T08:25:26.053083008Z Accuracy at step 5580: 0.9805\r\n",
      "2019-02-24T08:25:26.053086519Z Accuracy at step 5590: 0.98\r\n",
      "2019-02-24T08:25:26.053089231Z Adding run metadata for 5599\r\n",
      "2019-02-24T08:25:26.053091804Z Accuracy at step 5600: 0.9797\r\n",
      "2019-02-24T08:25:26.053094357Z Accuracy at step 5610: 0.9792\r\n",
      "2019-02-24T08:25:26.053096981Z Accuracy at step 5620: 0.9794\r\n",
      "2019-02-24T08:25:26.053099565Z Accuracy at step 5630: 0.9794\r\n",
      "2019-02-24T08:25:26.053102089Z Accuracy at step 5640: 0.9808\r\n",
      "2019-02-24T08:25:26.053104626Z Accuracy at step 5650: 0.9804\r\n",
      "2019-02-24T08:25:26.053107226Z Accuracy at step 5660: 0.9798\r\n",
      "2019-02-24T08:25:26.053109746Z Accuracy at step 5670: 0.9819\r\n",
      "2019-02-24T08:25:26.053112273Z Accuracy at step 5680: 0.9807\r\n",
      "2019-02-24T08:25:26.053114836Z Accuracy at step 5690: 0.9796\r\n",
      "2019-02-24T08:25:26.053117354Z Adding run metadata for 5699\r\n",
      "2019-02-24T08:25:26.05311989Z Accuracy at step 5700: 0.9802\r\n",
      "2019-02-24T08:25:26.053122455Z Accuracy at step 5710: 0.9804\r\n",
      "2019-02-24T08:25:26.053128218Z Accuracy at step 5720: 0.9792\r\n",
      "2019-02-24T08:25:26.053130817Z Accuracy at step 5730: 0.9815\r\n",
      "2019-02-24T08:25:26.053133393Z Accuracy at step 5740: 0.9817\r\n",
      "2019-02-24T08:25:26.053135908Z Accuracy at step 5750: 0.9816\r\n",
      "2019-02-24T08:25:26.053138473Z Accuracy at step 5760: 0.979\r\n",
      "2019-02-24T08:25:26.053141028Z Accuracy at step 5770: 0.9808\r\n",
      "2019-02-24T08:25:26.053143545Z Accuracy at step 5780: 0.9803\r\n",
      "2019-02-24T08:25:26.053146063Z Accuracy at step 5790: 0.9784\r\n",
      "2019-02-24T08:25:26.053148626Z Adding run metadata for 5799\r\n",
      "2019-02-24T08:25:26.053151158Z Accuracy at step 5800: 0.9792\r\n",
      "2019-02-24T08:25:26.053153686Z Accuracy at step 5810: 0.9808\r\n",
      "2019-02-24T08:25:26.053156229Z Accuracy at step 5820: 0.9802\r\n",
      "2019-02-24T08:25:26.053158755Z Accuracy at step 5830: 0.9807\r\n",
      "2019-02-24T08:25:26.053161301Z Accuracy at step 5840: 0.9801\r\n",
      "2019-02-24T08:25:26.053163889Z Accuracy at step 5850: 0.9801\r\n",
      "2019-02-24T08:25:26.053166424Z Accuracy at step 5860: 0.9804\r\n",
      "2019-02-24T08:25:26.053168963Z Accuracy at step 5870: 0.9807\r\n",
      "2019-02-24T08:25:26.053171477Z Accuracy at step 5880: 0.9801\r\n",
      "2019-02-24T08:25:26.053174056Z Accuracy at step 5890: 0.9805\r\n",
      "2019-02-24T08:25:26.053176624Z Adding run metadata for 5899\r\n",
      "2019-02-24T08:25:26.053179408Z Accuracy at step 5900: 0.9801\r\n",
      "2019-02-24T08:25:26.05318196Z Accuracy at step 5910: 0.9808\r\n",
      "2019-02-24T08:25:26.053184542Z Accuracy at step 5920: 0.9801\r\n",
      "2019-02-24T08:25:26.053187054Z Accuracy at step 5930: 0.9799\r\n",
      "2019-02-24T08:25:26.053189592Z Accuracy at step 5940: 0.9803\r\n",
      "2019-02-24T08:25:26.053192139Z Accuracy at step 5950: 0.9809\r\n",
      "2019-02-24T08:25:26.053205739Z Accuracy at step 5960: 0.982\r\n",
      "2019-02-24T08:25:26.053208905Z Accuracy at step 5970: 0.9811\r\n",
      "2019-02-24T08:25:26.05321152Z Accuracy at step 5980: 0.9799\r\n",
      "2019-02-24T08:25:26.053214062Z Accuracy at step 5990: 0.9824\r\n",
      "2019-02-24T08:25:26.053216661Z Adding run metadata for 5999\r\n",
      "2019-02-24T08:25:26.053219208Z Accuracy at step 6000: 0.9802\r\n",
      "2019-02-24T08:25:26.053221759Z Accuracy at step 6010: 0.9795\r\n",
      "2019-02-24T08:25:26.053224309Z Accuracy at step 6020: 0.9814\r\n",
      "2019-02-24T08:25:26.053226836Z Accuracy at step 6030: 0.9807\r\n",
      "2019-02-24T08:25:26.053229357Z Accuracy at step 6040: 0.9806\r\n",
      "2019-02-24T08:25:26.053231941Z Accuracy at step 6050: 0.9808\r\n",
      "2019-02-24T08:25:26.053234469Z Accuracy at step 6060: 0.9799\r\n",
      "2019-02-24T08:25:26.053237008Z Accuracy at step 6070: 0.9806\r\n",
      "2019-02-24T08:25:26.053239519Z Accuracy at step 6080: 0.9813\r\n",
      "2019-02-24T08:25:26.05324208Z Accuracy at step 6090: 0.9809\r\n",
      "2019-02-24T08:25:26.053247474Z Adding run metadata for 6099\r\n",
      "2019-02-24T08:25:26.053250112Z Accuracy at step 6100: 0.9803\r\n",
      "2019-02-24T08:25:26.053252668Z Accuracy at step 6110: 0.9808\r\n",
      "2019-02-24T08:25:26.053255207Z Accuracy at step 6120: 0.9784\r\n",
      "2019-02-24T08:25:26.05325773Z Accuracy at step 6130: 0.9802\r\n",
      "2019-02-24T08:25:26.053260317Z Accuracy at step 6140: 0.9789\r\n",
      "2019-02-24T08:25:26.05326289Z Accuracy at step 6150: 0.9813\r\n",
      "2019-02-24T08:25:26.05326545Z Accuracy at step 6160: 0.9821\r\n",
      "2019-02-24T08:25:26.053268004Z Accuracy at step 6170: 0.9812\r\n",
      "2019-02-24T08:25:26.053270528Z Accuracy at step 6180: 0.9822\r\n",
      "2019-02-24T08:25:26.053273092Z Accuracy at step 6190: 0.9813\r\n",
      "2019-02-24T08:25:26.053275647Z Adding run metadata for 6199\r\n",
      "2019-02-24T08:25:26.053278167Z Accuracy at step 6200: 0.9806\r\n",
      "2019-02-24T08:25:26.053281377Z Accuracy at step 6210: 0.9806\r\n",
      "2019-02-24T08:25:26.053284017Z Accuracy at step 6220: 0.9808\r\n",
      "2019-02-24T08:25:26.053286543Z Accuracy at step 6230: 0.9809\r\n",
      "2019-02-24T08:25:26.053289091Z Accuracy at step 6240: 0.9822\r\n",
      "2019-02-24T08:25:26.053291614Z Accuracy at step 6250: 0.9821\r\n",
      "2019-02-24T08:25:26.053294171Z Accuracy at step 6260: 0.9812\r\n",
      "2019-02-24T08:25:26.053296688Z Accuracy at step 6270: 0.9816\r\n",
      "2019-02-24T08:25:26.053299208Z Accuracy at step 6280: 0.9821\r\n",
      "2019-02-24T08:25:26.05330175Z Accuracy at step 6290: 0.982\r\n",
      "2019-02-24T08:25:26.053325835Z Adding run metadata for 6299\r\n",
      "2019-02-24T08:25:26.053331902Z Accuracy at step 6300: 0.9816\r\n",
      "2019-02-24T08:25:26.053334633Z Accuracy at step 6310: 0.9788\r\n",
      "2019-02-24T08:25:26.053337196Z Accuracy at step 6320: 0.9798\r\n",
      "2019-02-24T08:25:26.053339756Z Accuracy at step 6330: 0.981\r\n",
      "2019-02-24T08:25:26.053342291Z Accuracy at step 6340: 0.9815\r\n",
      "2019-02-24T08:25:26.053344857Z Accuracy at step 6350: 0.9814\r\n",
      "2019-02-24T08:25:26.053347416Z Accuracy at step 6360: 0.9808\r\n",
      "2019-02-24T08:25:26.053349993Z Accuracy at step 6370: 0.9811\r\n",
      "2019-02-24T08:25:26.053352537Z Accuracy at step 6380: 0.9814\r\n",
      "2019-02-24T08:25:26.053355092Z Accuracy at step 6390: 0.9816\r\n",
      "2019-02-24T08:25:26.053357632Z Adding run metadata for 6399\r\n",
      "2019-02-24T08:25:26.053360447Z Accuracy at step 6400: 0.9789\r\n",
      "2019-02-24T08:25:26.053363178Z Accuracy at step 6410: 0.9792\r\n",
      "2019-02-24T08:25:26.053365717Z Accuracy at step 6420: 0.9805\r\n",
      "2019-02-24T08:25:26.053368346Z Accuracy at step 6430: 0.9809\r\n",
      "2019-02-24T08:25:26.053370893Z Accuracy at step 6440: 0.9816\r\n",
      "2019-02-24T08:25:26.05337353Z Accuracy at step 6450: 0.9816\r\n",
      "2019-02-24T08:25:26.053376104Z Accuracy at step 6460: 0.9829\r\n",
      "2019-02-24T08:25:26.053382405Z Accuracy at step 6470: 0.9823\r\n",
      "2019-02-24T08:25:26.053385125Z Accuracy at step 6480: 0.9802\r\n",
      "2019-02-24T08:25:26.053387738Z Accuracy at step 6490: 0.978\r\n",
      "2019-02-24T08:25:26.053390298Z Adding run metadata for 6499\r\n",
      "2019-02-24T08:25:26.053392826Z Accuracy at step 6500: 0.98\r\n",
      "2019-02-24T08:25:26.053395367Z Accuracy at step 6510: 0.9822\r\n",
      "2019-02-24T08:25:26.053398Z Accuracy at step 6520: 0.9825\r\n",
      "2019-02-24T08:25:26.053400704Z Accuracy at step 6530: 0.9816\r\n",
      "2019-02-24T08:25:26.053403372Z Accuracy at step 6540: 0.9809\r\n",
      "2019-02-24T08:25:26.053406036Z Accuracy at step 6550: 0.9816\r\n",
      "2019-02-24T08:25:26.053408591Z Accuracy at step 6560: 0.9807\r\n",
      "2019-02-24T08:25:26.053411266Z Accuracy at step 6570: 0.9815\r\n",
      "2019-02-24T08:25:26.053413816Z Accuracy at step 6580: 0.9809\r\n",
      "2019-02-24T08:25:26.053416562Z Accuracy at step 6590: 0.9801\r\n",
      "2019-02-24T08:25:26.053419087Z Adding run metadata for 6599\r\n",
      "2019-02-24T08:25:26.053421743Z Accuracy at step 6600: 0.9802\r\n",
      "2019-02-24T08:25:26.053424298Z Accuracy at step 6610: 0.9799\r\n",
      "2019-02-24T08:25:26.053426939Z Accuracy at step 6620: 0.9806\r\n",
      "2019-02-24T08:25:26.05342947Z Accuracy at step 6630: 0.9801\r\n",
      "2019-02-24T08:25:26.053432148Z Accuracy at step 6640: 0.9807\r\n",
      "2019-02-24T08:25:26.053434679Z Accuracy at step 6650: 0.981\r\n",
      "2019-02-24T08:25:26.053437311Z Accuracy at step 6660: 0.9821\r\n",
      "2019-02-24T08:25:26.053439873Z Accuracy at step 6670: 0.9815\r\n",
      "2019-02-24T08:25:26.05344254Z Accuracy at step 6680: 0.9823\r\n",
      "2019-02-24T08:25:26.053445116Z Accuracy at step 6690: 0.9819\r\n",
      "2019-02-24T08:25:26.053447796Z Adding run metadata for 6699\r\n",
      "2019-02-24T08:25:26.053450329Z Accuracy at step 6700: 0.981\r\n",
      "2019-02-24T08:25:26.053452881Z Accuracy at step 6710: 0.9815\r\n",
      "2019-02-24T08:25:26.053455417Z Accuracy at step 6720: 0.9817\r\n",
      "2019-02-24T08:25:26.053457942Z Accuracy at step 6730: 0.9822\r\n",
      "2019-02-24T08:25:26.053460523Z Accuracy at step 6740: 0.9812\r\n",
      "2019-02-24T08:25:26.053463099Z Accuracy at step 6750: 0.9808\r\n",
      "2019-02-24T08:25:26.05346563Z Accuracy at step 6760: 0.9817\r\n",
      "2019-02-24T08:25:26.053468188Z Accuracy at step 6770: 0.9814\r\n",
      "2019-02-24T08:25:26.053470748Z Accuracy at step 6780: 0.9824\r\n",
      "2019-02-24T08:25:26.053473289Z Accuracy at step 6790: 0.9818\r\n",
      "2019-02-24T08:25:26.05347582Z Adding run metadata for 6799\r\n",
      "2019-02-24T08:25:26.053478395Z Accuracy at step 6800: 0.982\r\n",
      "2019-02-24T08:25:26.053480918Z Accuracy at step 6810: 0.9819\r\n",
      "2019-02-24T08:25:26.053483444Z Accuracy at step 6820: 0.98\r\n",
      "2019-02-24T08:25:26.05348599Z Accuracy at step 6830: 0.979\r\n",
      "2019-02-24T08:25:26.053493578Z Accuracy at step 6840: 0.9787\r\n",
      "2019-02-24T08:25:26.053498771Z Accuracy at step 6850: 0.9809\r\n",
      "2019-02-24T08:25:26.053501426Z Accuracy at step 6860: 0.9796\r\n",
      "2019-02-24T08:25:26.05350413Z Accuracy at step 6870: 0.9816\r\n",
      "2019-02-24T08:25:26.053506862Z Accuracy at step 6880: 0.9811\r\n",
      "2019-02-24T08:25:26.053509422Z Accuracy at step 6890: 0.9812\r\n",
      "2019-02-24T08:25:26.053512114Z Adding run metadata for 6899\r\n",
      "2019-02-24T08:25:26.053514795Z Accuracy at step 6900: 0.9806\r\n",
      "2019-02-24T08:25:26.053517338Z Accuracy at step 6910: 0.9801\r\n",
      "2019-02-24T08:25:26.053519984Z Accuracy at step 6920: 0.9808\r\n",
      "2019-02-24T08:25:26.053522738Z Accuracy at step 6930: 0.9819\r\n",
      "2019-02-24T08:25:26.053525258Z Accuracy at step 6940: 0.9826\r\n",
      "2019-02-24T08:25:26.053527895Z Accuracy at step 6950: 0.9825\r\n",
      "2019-02-24T08:25:26.053530453Z Accuracy at step 6960: 0.9833\r\n",
      "2019-02-24T08:25:26.053533127Z Accuracy at step 6970: 0.9831\r\n",
      "2019-02-24T08:25:26.053535647Z Accuracy at step 6980: 0.9821\r\n",
      "2019-02-24T08:25:26.053538335Z Accuracy at step 6990: 0.9825\r\n",
      "2019-02-24T08:25:26.053541039Z Adding run metadata for 6999\r\n",
      "2019-02-24T08:25:26.053543562Z Accuracy at step 7000: 0.9815\r\n",
      "2019-02-24T08:25:26.053546123Z Accuracy at step 7010: 0.9817\r\n",
      "2019-02-24T08:25:26.053548655Z Accuracy at step 7020: 0.9807\r\n",
      "2019-02-24T08:25:26.053551176Z Accuracy at step 7030: 0.9757\r\n",
      "2019-02-24T08:25:26.053553731Z Accuracy at step 7040: 0.9814\r\n",
      "2019-02-24T08:25:26.053556251Z Accuracy at step 7050: 0.9793\r\n",
      "2019-02-24T08:25:26.053558792Z Accuracy at step 7060: 0.9806\r\n",
      "2019-02-24T08:25:26.053561341Z Accuracy at step 7070: 0.9802\r\n",
      "2019-02-24T08:25:26.053563882Z Accuracy at step 7080: 0.9813\r\n",
      "2019-02-24T08:25:26.053566438Z Accuracy at step 7090: 0.9825\r\n",
      "2019-02-24T08:25:26.053568961Z Adding run metadata for 7099\r\n",
      "2019-02-24T08:25:26.053571498Z Accuracy at step 7100: 0.9802\r\n",
      "2019-02-24T08:25:26.053574047Z Accuracy at step 7110: 0.9798\r\n",
      "2019-02-24T08:25:26.053576564Z Accuracy at step 7120: 0.9817\r\n",
      "2019-02-24T08:25:26.053579078Z Accuracy at step 7130: 0.9813\r\n",
      "2019-02-24T08:25:26.05358162Z Accuracy at step 7140: 0.9806\r\n",
      "2019-02-24T08:25:26.053584146Z Accuracy at step 7150: 0.9816\r\n",
      "2019-02-24T08:25:26.053586671Z Accuracy at step 7160: 0.981\r\n",
      "2019-02-24T08:25:26.05358922Z Accuracy at step 7170: 0.9812\r\n",
      "2019-02-24T08:25:26.053591794Z Accuracy at step 7180: 0.9808\r\n",
      "2019-02-24T08:25:26.053594316Z Accuracy at step 7190: 0.9792\r\n",
      "2019-02-24T08:25:26.053596833Z Adding run metadata for 7199\r\n",
      "2019-02-24T08:25:26.053599394Z Accuracy at step 7200: 0.9799\r\n",
      "2019-02-24T08:25:26.053610985Z Accuracy at step 7210: 0.9803\r\n",
      "2019-02-24T08:25:26.053613905Z Accuracy at step 7220: 0.9807\r\n",
      "2019-02-24T08:25:26.053616527Z Accuracy at step 7230: 0.9812\r\n",
      "2019-02-24T08:25:26.053619143Z Accuracy at step 7240: 0.9807\r\n",
      "2019-02-24T08:25:26.053621706Z Accuracy at step 7250: 0.9815\r\n",
      "2019-02-24T08:25:26.05362443Z Accuracy at step 7260: 0.9809\r\n",
      "2019-02-24T08:25:26.053627018Z Accuracy at step 7270: 0.9802\r\n",
      "2019-02-24T08:25:26.053629626Z Accuracy at step 7280: 0.9798\r\n",
      "2019-02-24T08:25:26.053632177Z Accuracy at step 7290: 0.9822\r\n",
      "2019-02-24T08:25:26.05363488Z Adding run metadata for 7299\r\n",
      "2019-02-24T08:25:26.053640368Z Accuracy at step 7300: 0.9818\r\n",
      "2019-02-24T08:25:26.053642923Z Accuracy at step 7310: 0.9826\r\n",
      "2019-02-24T08:25:26.053645485Z Accuracy at step 7320: 0.9826\r\n",
      "2019-02-24T08:25:26.053648099Z Accuracy at step 7330: 0.9813\r\n",
      "2019-02-24T08:25:26.053650648Z Accuracy at step 7340: 0.9812\r\n",
      "2019-02-24T08:25:26.053653282Z Accuracy at step 7350: 0.9814\r\n",
      "2019-02-24T08:25:26.053655842Z Accuracy at step 7360: 0.9812\r\n",
      "2019-02-24T08:25:26.053658454Z Accuracy at step 7370: 0.9817\r\n",
      "2019-02-24T08:25:26.053661013Z Accuracy at step 7380: 0.9818\r\n",
      "2019-02-24T08:25:26.053663656Z Accuracy at step 7390: 0.9818\r\n",
      "2019-02-24T08:25:26.053666219Z Adding run metadata for 7399\r\n",
      "2019-02-24T08:25:26.053668982Z Accuracy at step 7400: 0.9825\r\n",
      "2019-02-24T08:25:26.053671518Z Accuracy at step 7410: 0.9818\r\n",
      "2019-02-24T08:25:26.053674138Z Accuracy at step 7420: 0.9834\r\n",
      "2019-02-24T08:25:26.053676666Z Accuracy at step 7430: 0.982\r\n",
      "2019-02-24T08:25:26.053679291Z Accuracy at step 7440: 0.9815\r\n",
      "2019-02-24T08:25:26.053681992Z Accuracy at step 7450: 0.9817\r\n"
     ]
    }
   ],
   "source": [
    "! arena logs --tail=500 tf-mnist "
   ]
  },
  {
   "cell_type": "markdown",
   "metadata": {},
   "source": [
    "9.查看实时训练的GPU使用情况"
   ]
  },
  {
   "cell_type": "code",
   "execution_count": 8,
   "metadata": {},
   "outputs": [
    {
     "name": "stdout",
     "output_type": "stream",
     "text": [
      "INSTANCE NAME     GPU(Device Index)  GPU(Duty Cycle)  GPU(Memory MiB)         STATUS   NODE\r\n",
      "tf-mnist-chief-0  5                  0%               549.0MiB / 16276.2MiB   Running  192.168.0.194\r\n"
     ]
    }
   ],
   "source": [
    "! arena top job tf-mnist "
   ]
  },
  {
   "cell_type": "markdown",
   "metadata": {},
   "source": [
    "10.通过TensorBoard查看训练趋势。您可以使用 `192.168.1.117:30670` 访问 Tensorboard。如果您通过笔记本电脑无法直接访问 Tensorboard，可以考虑在您的笔记本电脑使用 `sshuttle`。例如：`sshuttle -r root@41.82.59.51 192.168.0.0/16`。其中`41.82.59.51`为集群内某个节点的外网IP，且该外网IP可以通过ssh访问。"
   ]
  },
  {
   "cell_type": "code",
   "execution_count": 9,
   "metadata": {
    "scrolled": false
   },
   "outputs": [
    {
     "name": "stdout",
     "output_type": "stream",
     "text": [
      "STATUS: RUNNING\r\n",
      "NAMESPACE: default\r\n",
      "TRAINING DURATION: 1m\r\n",
      "\r\n",
      "NAME      STATUS   TRAINER  AGE  INSTANCE          NODE\r\n",
      "tf-mnist  RUNNING  TFJOB    1m   tf-mnist-chief-0  192.168.0.195\r\n",
      "\r\n",
      "Your tensorboard will be available on:\r\n",
      "192.168.0.114:32033   \r\n"
     ]
    }
   ],
   "source": [
    "# show job detail\n",
    "! arena get tf-mnist"
   ]
  },
  {
   "cell_type": "markdown",
   "metadata": {},
   "source": [
    "![](1-1-tensorboard.jpg)"
   ]
  },
  {
   "cell_type": "markdown",
   "metadata": {},
   "source": [
    "11.查看模型训练产生的结果, 在`output`下生成了训练结果"
   ]
  },
  {
   "cell_type": "code",
   "execution_count": 10,
   "metadata": {},
   "outputs": [
    {
     "name": "stdout",
     "output_type": "stream",
     "text": [
      "/root\r\n",
      "|-- dataset\r\n",
      "|   `-- mnist\r\n",
      "|       |-- t10k-images-idx3-ubyte.gz\r\n",
      "|       |-- t10k-labels-idx1-ubyte.gz\r\n",
      "|       |-- train-images-idx3-ubyte.gz\r\n",
      "|       `-- train-labels-idx1-ubyte.gz\r\n",
      "|-- models\r\n",
      "|   `-- tensorflow-sample-code\r\n",
      "|       |-- README.md\r\n",
      "|       |-- data\r\n",
      "|       |-- mnist-tf\r\n",
      "|       |-- models\r\n",
      "|       |-- mpijob\r\n",
      "|       `-- tfjob\r\n",
      "`-- output\r\n",
      "    `-- mnist\r\n",
      "        |-- test\r\n",
      "        `-- train\r\n",
      "\r\n",
      "13 directories, 5 files\r\n"
     ]
    }
   ],
   "source": [
    "! tree -I ai-starter -L 3 ${HOME}"
   ]
  },
  {
   "cell_type": "markdown",
   "metadata": {},
   "source": [
    "12.删除已经完成的任务"
   ]
  },
  {
   "cell_type": "code",
   "execution_count": 11,
   "metadata": {},
   "outputs": [
    {
     "name": "stdout",
     "output_type": "stream",
     "text": [
      "service \"tf-mnist-tensorboard\" deleted\n",
      "deployment.extensions \"tf-mnist-tensorboard\" deleted\n",
      "tfjob.kubeflow.org \"tf-mnist\" deleted\n",
      "configmap \"tf-mnist-tfjob\" deleted\n",
      "\u001b[36mINFO\u001b[0m[0002] The Job tf-mnist has been deleted successfully \n"
     ]
    }
   ],
   "source": [
    "# delete job\n",
    "! arena delete tf-mnist"
   ]
  },
  {
   "cell_type": "markdown",
   "metadata": {},
   "source": [
    "恭喜！您已经使用 `arena` 成功运行了训练作业，而且还能轻松检查 Tensorboard。\n",
    "\n",
    "总结，希望您通过本次演示了解：\n",
    "1. 如何准备代码和数据，并将其放入数据卷中\n",
    "2. 如何在训练任务中引用数据卷，并且使用其中的代码和数据\n",
    "3. 如何利用arena管理您的训练任务。"
   ]
  }
 ],
 "metadata": {
  "kernelspec": {
   "display_name": "Python 3",
   "language": "python",
   "name": "python3"
  },
  "language_info": {
   "codemirror_mode": {
    "name": "ipython",
    "version": 3
   },
   "file_extension": ".py",
   "mimetype": "text/x-python",
   "name": "python",
   "nbconvert_exporter": "python",
   "pygments_lexer": "ipython3",
   "version": "3.5.2"
  }
 },
 "nbformat": 4,
 "nbformat_minor": 2
}
