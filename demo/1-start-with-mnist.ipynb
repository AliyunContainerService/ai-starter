{
 "cells": [
  {
   "cell_type": "markdown",
   "metadata": {},
   "source": [
    "# 入门云原生AI - 1. 从mnist开始体验\n",
    "\n",
    "在这个示例中，我们将演示：\n",
    "\n",
    "* 下载并准备数据\n",
    "* 利用Arena提交单机训练任务,并且查看训练任务状态和日志\n",
    "* 通过TensorBoard查看训练任务\n",
    "\n",
    "> 前提：请先完成文档中的[共享存储配置](../docs/setup/SETUP_NAS.md)，当前${HOME}就是其中`training-data`的数据卷对应目录。"
   ]
  },
  {
   "cell_type": "markdown",
   "metadata": {},
   "source": [
    "1.下载TensorFlow样例源代码到${HOME}/models目录"
   ]
  },
  {
   "cell_type": "code",
   "execution_count": 1,
   "metadata": {
    "scrolled": true
   },
   "outputs": [
    {
     "name": "stdout",
     "output_type": "stream",
     "text": [
      "Cloning into '/root/models/tensorflow-sample-code'...\n",
      "remote: Enumerating objects: 242, done.\u001b[K\n",
      "remote: Counting objects: 100% (242/242), done.\u001b[K\n",
      "remote: Compressing objects: 100% (112/112), done.\u001b[K\n",
      "remote: Total 242 (delta 93), reused 242 (delta 93)\u001b[KiB/s   \n",
      "Receiving objects: 100% (242/242), 11.25 MiB | 22.15 MiB/s, done.\n",
      "Resolving deltas: 100% (93/93), done.\n",
      "Checking connectivity... done.\n"
     ]
    }
   ],
   "source": [
    "! git clone https://code.aliyun.com/xiaozhou/tensorflow-sample-code.git ${HOME}/models/tensorflow-sample-code"
   ]
  },
  {
   "cell_type": "markdown",
   "metadata": {},
   "source": [
    "2.下载mnist数据到${HOME}/dataset/mnist"
   ]
  },
  {
   "cell_type": "code",
   "execution_count": 2,
   "metadata": {
    "scrolled": false
   },
   "outputs": [
    {
     "name": "stdout",
     "output_type": "stream",
     "text": [
      "  % Total    % Received % Xferd  Average Speed   Time    Time     Time  Current\n",
      "                                 Dload  Upload   Total   Spent    Left  Speed\n",
      "100 1610k    0 1610k    0     0  2432k      0 --:--:-- --:--:-- --:--:-- 2432k\n",
      "  % Total    % Received % Xferd  Average Speed   Time    Time     Time  Current\n",
      "                                 Dload  Upload   Total   Spent    Left  Speed\n",
      "100  4542    0  4542    0     0  13465      0 --:--:-- --:--:-- --:--:-- 13477\n",
      "  % Total    % Received % Xferd  Average Speed   Time    Time     Time  Current\n",
      "                                 Dload  Upload   Total   Spent    Left  Speed\n",
      "100 9680k    0 9680k    0     0  12.7M      0 --:--:-- --:--:-- --:--:-- 12.7M\n",
      "  % Total    % Received % Xferd  Average Speed   Time    Time     Time  Current\n",
      "                                 Dload  Upload   Total   Spent    Left  Speed\n",
      "100 28881    0 28881    0     0  83500      0 --:--:-- --:--:-- --:--:-- 83713\n"
     ]
    }
   ],
   "source": [
    "! mkdir -p ${HOME}/dataset/mnist && \\\n",
    "  cd ${HOME}/dataset/mnist && \\\n",
    "  curl -O https://code.aliyun.com/xiaozhou/tensorflow-sample-code/raw/master/data/t10k-images-idx3-ubyte.gz && \\\n",
    "  curl -O https://code.aliyun.com/xiaozhou/tensorflow-sample-code/raw/master/data/t10k-labels-idx1-ubyte.gz && \\\n",
    "  curl -O https://code.aliyun.com/xiaozhou/tensorflow-sample-code/raw/master/data/train-images-idx3-ubyte.gz && \\\n",
    "  curl -O https://code.aliyun.com/xiaozhou/tensorflow-sample-code/raw/master/data/train-labels-idx1-ubyte.gz"
   ]
  },
  {
   "cell_type": "markdown",
   "metadata": {},
   "source": [
    "3.创建训练结果${HOME}/output"
   ]
  },
  {
   "cell_type": "code",
   "execution_count": 1,
   "metadata": {},
   "outputs": [],
   "source": [
    "! mkdir -p ${HOME}/output"
   ]
  },
  {
   "cell_type": "markdown",
   "metadata": {},
   "source": [
    "4.查看目录结构, 其中`dataset`是数据目录，`models`是模型代码目录，`output`是训练结果目录。"
   ]
  },
  {
   "cell_type": "code",
   "execution_count": 3,
   "metadata": {},
   "outputs": [
    {
     "name": "stdout",
     "output_type": "stream",
     "text": [
      "/root\r\n",
      "|-- dataset\r\n",
      "|   `-- mnist\r\n",
      "|       |-- t10k-images-idx3-ubyte.gz\r\n",
      "|       |-- t10k-labels-idx1-ubyte.gz\r\n",
      "|       |-- train-images-idx3-ubyte.gz\r\n",
      "|       `-- train-labels-idx1-ubyte.gz\r\n",
      "|-- models\r\n",
      "|   `-- tensorflow-sample-code\r\n",
      "|       |-- README.md\r\n",
      "|       |-- data\r\n",
      "|       |-- mnist-tf\r\n",
      "|       |-- models\r\n",
      "|       |-- mpijob\r\n",
      "|       `-- tfjob\r\n",
      "`-- output\r\n",
      "\r\n",
      "10 directories, 5 files\r\n"
     ]
    }
   ],
   "source": [
    "! tree -I ai-starter -L 3 ${HOME}"
   ]
  },
  {
   "cell_type": "markdown",
   "metadata": {},
   "source": [
    "5.检查可用GPU资源"
   ]
  },
  {
   "cell_type": "code",
   "execution_count": 4,
   "metadata": {},
   "outputs": [
    {
     "name": "stdout",
     "output_type": "stream",
     "text": [
      "NAME                                 IPADDRESS      ROLE    GPU(Total)  GPU(Allocated)\r\n",
      "cn-huhehaote.i-hp309790vg0alb65q123  192.168.0.116  master  0           0\r\n",
      "cn-huhehaote.i-hp32to8ln1xdug4rk123  192.168.0.194  <none>  8           0\r\n",
      "cn-huhehaote.i-hp32to8ln1xdug4rk123  192.168.0.195  <none>  8           0\r\n",
      "cn-huhehaote.i-hp3b4qysu7phej5q2123  192.168.0.115  master  0           0\r\n",
      "cn-huhehaote.i-hp3b4qysu7phen3sa123  192.168.0.118  <none>  8           0\r\n",
      "cn-huhehaote.i-hp3b4qysu7phen3sa123  192.168.0.117  <none>  8           0\r\n",
      "cn-huhehaote.i-hp3dc30s7ew8nbmtq123  192.168.0.114  master  0           0\r\n",
      "-----------------------------------------------------------------------------------------\r\n",
      "Allocated/Total GPUs In Cluster:\r\n",
      "0/32 (0%)  \r\n"
     ]
    }
   ],
   "source": [
    "! arena top node"
   ]
  },
  {
   "cell_type": "markdown",
   "metadata": {},
   "source": [
    "6.通过Arena提交训练任务, 这里`training-data`在配置[共享存储时](../docs/setup/SETUP_NAS.md)创建.   \n",
    "`--data=training-data:/training`将其映射到训练任务的`/training`目录。而`/training`目录下的子目录`/training/models/tensorflow-sample-code`就是步骤1拷贝源代码的位置，`/training`目录下的子目录`/training/dataset/mnist`就是步骤2下载数据的位置, `/training`目录下的子目录`/training/output`就是步骤3创建的训练结果输出的位置。"
   ]
  },
  {
   "cell_type": "code",
   "execution_count": 5,
   "metadata": {},
   "outputs": [
    {
     "name": "stdout",
     "output_type": "stream",
     "text": [
      "configmap/tf-mnist-tfjob created\n",
      "configmap/tf-mnist-tfjob labeled\n",
      "service/tf-mnist-tensorboard created\n",
      "deployment.extensions/tf-mnist-tensorboard created\n",
      "tfjob.kubeflow.org/tf-mnist created\n",
      "\u001b[36mINFO\u001b[0m[0002] The Job tf-mnist has been submitted successfully \n",
      "\u001b[36mINFO\u001b[0m[0002] You can run `arena get tf-mnist --type tfjob` to check the job status \n"
     ]
    }
   ],
   "source": [
    "# Submit a training job \n",
    "# using code and data from NAS\n",
    "!arena submit tf \\\n",
    "             --name=tf-mnist \\\n",
    "             --gpus=1 \\\n",
    "             --data=training-data:/training \\\n",
    "             --tensorboard \\\n",
    "             --image=tensorflow/tensorflow:1.11.0-gpu-py3 \\\n",
    "             --logdir=/training/output/mnist \\\n",
    "             \"python /training/models/tensorflow-sample-code/tfjob/docker/mnist/main.py --max_steps 10000 --data_dir /training/dataset/mnist --log_dir /training/output/mnist\""
   ]
  },
  {
   "cell_type": "markdown",
   "metadata": {},
   "source": [
    "> `Arena`命令的`--logdir`指定`tensorboard`从训练任务的指定目录读取event\n",
    "> 完整参数可以参考[命令行文档](https://github.com/kubeflow/arena/blob/master/docs/cli/arena_submit_tfjob.md)"
   ]
  },
  {
   "cell_type": "markdown",
   "metadata": {},
   "source": [
    "7.检查模型训练状态，当任务状态从`Pending`转为`Running`后就可以查看日志和GPU使用率了。这里`-e`为了方便检查任务`Pending`的原因。通常看到`[Pulling] pulling image \"tensorflow/tensorflow:1.11.0-gpu-py3\"`代表容器镜像过大，导致任务处于`Pending`。这时可以重复执行下列命令直到任务状态变为`Running`。"
   ]
  },
  {
   "cell_type": "code",
   "execution_count": 6,
   "metadata": {},
   "outputs": [
    {
     "name": "stdout",
     "output_type": "stream",
     "text": [
      "STATUS: RUNNING\r\n",
      "NAMESPACE: default\r\n",
      "TRAINING DURATION: 2m\r\n",
      "\r\n",
      "NAME      STATUS   TRAINER  AGE  INSTANCE          NODE\r\n",
      "tf-mnist  RUNNING  TFJOB    2m   tf-mnist-chief-0  192.168.0.195\r\n",
      "\r\n",
      "Your tensorboard will be available on:\r\n",
      "192.168.0.114:32033   \r\n",
      "\r\n",
      "Events: \r\n",
      "No events for pending pod\r\n"
     ]
    }
   ],
   "source": [
    "! arena get tf-mnist -e 2>&1"
   ]
  },
  {
   "cell_type": "markdown",
   "metadata": {},
   "source": [
    "8.实时检查日志，此时可以通过调整`--tail=`的数值展示输出的行数。默认为显示全部日志。"
   ]
  },
  {
   "cell_type": "code",
   "execution_count": 7,
   "metadata": {},
   "outputs": [
    {
     "name": "stdout",
     "output_type": "stream",
     "text": [
      "2019-02-24T08:25:26.053563882Z Accuracy at step 7080: 0.9813\r\n",
      "2019-02-24T08:25:26.053566438Z Accuracy at step 7090: 0.9825\r\n",
      "2019-02-24T08:25:26.053568961Z Adding run metadata for 7099\r\n",
      "2019-02-24T08:25:26.053571498Z Accuracy at step 7100: 0.9802\r\n",
      "2019-02-24T08:25:26.053574047Z Accuracy at step 7110: 0.9798\r\n",
      "2019-02-24T08:25:26.053576564Z Accuracy at step 7120: 0.9817\r\n",
      "2019-02-24T08:25:26.053579078Z Accuracy at step 7130: 0.9813\r\n",
      "2019-02-24T08:25:26.05358162Z Accuracy at step 7140: 0.9806\r\n",
      "2019-02-24T08:25:26.053584146Z Accuracy at step 7150: 0.9816\r\n",
      "2019-02-24T08:25:26.053586671Z Accuracy at step 7160: 0.981\r\n",
      "2019-02-24T08:25:26.05358922Z Accuracy at step 7170: 0.9812\r\n",
      "2019-02-24T08:25:26.053591794Z Accuracy at step 7180: 0.9808\r\n",
      "2019-02-24T08:25:26.053594316Z Accuracy at step 7190: 0.9792\r\n",
      "2019-02-24T08:25:26.053596833Z Adding run metadata for 7199\r\n",
      "2019-02-24T08:25:26.053599394Z Accuracy at step 7200: 0.9799\r\n",
      "2019-02-24T08:25:26.053610985Z Accuracy at step 7210: 0.9803\r\n",
      "2019-02-24T08:25:26.053613905Z Accuracy at step 7220: 0.9807\r\n",
      "2019-02-24T08:25:26.053616527Z Accuracy at step 7230: 0.9812\r\n",
      "2019-02-24T08:25:26.053619143Z Accuracy at step 7240: 0.9807\r\n",
      "2019-02-24T08:25:26.053621706Z Accuracy at step 7250: 0.9815\r\n",
      "2019-02-24T08:25:26.05362443Z Accuracy at step 7260: 0.9809\r\n",
      "2019-02-24T08:25:26.053627018Z Accuracy at step 7270: 0.9802\r\n",
      "2019-02-24T08:25:26.053629626Z Accuracy at step 7280: 0.9798\r\n",
      "2019-02-24T08:25:26.053632177Z Accuracy at step 7290: 0.9822\r\n",
      "2019-02-24T08:25:26.05363488Z Adding run metadata for 7299\r\n",
      "2019-02-24T08:25:26.053640368Z Accuracy at step 7300: 0.9818\r\n",
      "2019-02-24T08:25:26.053642923Z Accuracy at step 7310: 0.9826\r\n",
      "2019-02-24T08:25:26.053645485Z Accuracy at step 7320: 0.9826\r\n",
      "2019-02-24T08:25:26.053648099Z Accuracy at step 7330: 0.9813\r\n",
      "2019-02-24T08:25:26.053650648Z Accuracy at step 7340: 0.9812\r\n",
      "2019-02-24T08:25:26.053653282Z Accuracy at step 7350: 0.9814\r\n",
      "2019-02-24T08:25:26.053655842Z Accuracy at step 7360: 0.9812\r\n",
      "2019-02-24T08:25:26.053658454Z Accuracy at step 7370: 0.9817\r\n",
      "2019-02-24T08:25:26.053661013Z Accuracy at step 7380: 0.9818\r\n",
      "2019-02-24T08:25:26.053663656Z Accuracy at step 7390: 0.9818\r\n",
      "2019-02-24T08:25:26.053666219Z Adding run metadata for 7399\r\n",
      "2019-02-24T08:25:26.053668982Z Accuracy at step 7400: 0.9825\r\n",
      "2019-02-24T08:25:26.053671518Z Accuracy at step 7410: 0.9818\r\n",
      "2019-02-24T08:25:26.053674138Z Accuracy at step 7420: 0.9834\r\n",
      "2019-02-24T08:25:26.053676666Z Accuracy at step 7430: 0.982\r\n",
      "2019-02-24T08:25:26.053679291Z Accuracy at step 7440: 0.9815\r\n",
      "2019-02-24T08:25:26.053681992Z Accuracy at step 7450: 0.9817\r\n"
     ]
    }
   ],
   "source": [
    "! arena logs --tail=50 tf-mnist "
   ]
  },
  {
   "cell_type": "markdown",
   "metadata": {},
   "source": [
    "9.查看实时训练的GPU使用情况"
   ]
  },
  {
   "cell_type": "code",
   "execution_count": 8,
   "metadata": {},
   "outputs": [
    {
     "name": "stdout",
     "output_type": "stream",
     "text": [
      "INSTANCE NAME     GPU(Device Index)  GPU(Duty Cycle)  GPU(Memory MiB)         STATUS   NODE\r\n",
      "tf-mnist-chief-0  5                  0%               549.0MiB / 16276.2MiB   Running  192.168.0.194\r\n"
     ]
    }
   ],
   "source": [
    "! arena top job tf-mnist "
   ]
  },
  {
   "cell_type": "markdown",
   "metadata": {},
   "source": [
    "10.通过TensorBoard查看训练趋势。您可以使用 `192.168.1.117:30670` 访问 Tensorboard。如果您通过笔记本电脑无法直接访问 Tensorboard，可以考虑在您的笔记本电脑使用 `sshuttle`。例如：`sshuttle -r root@41.82.59.51 192.168.0.0/16`。其中`41.82.59.51`为集群内某个节点的外网IP，且该外网IP可以通过ssh访问。"
   ]
  },
  {
   "cell_type": "code",
   "execution_count": 9,
   "metadata": {
    "scrolled": false
   },
   "outputs": [
    {
     "name": "stdout",
     "output_type": "stream",
     "text": [
      "STATUS: RUNNING\r\n",
      "NAMESPACE: default\r\n",
      "TRAINING DURATION: 1m\r\n",
      "\r\n",
      "NAME      STATUS   TRAINER  AGE  INSTANCE          NODE\r\n",
      "tf-mnist  RUNNING  TFJOB    1m   tf-mnist-chief-0  192.168.0.195\r\n",
      "\r\n",
      "Your tensorboard will be available on:\r\n",
      "192.168.0.114:32033   \r\n"
     ]
    }
   ],
   "source": [
    "# show job detail\n",
    "! arena get tf-mnist"
   ]
  },
  {
   "cell_type": "markdown",
   "metadata": {},
   "source": [
    "![](1-1-tensorboard.jpg)"
   ]
  },
  {
   "cell_type": "markdown",
   "metadata": {},
   "source": [
    "11.查看模型训练产生的结果, 在`output`下生成了训练结果"
   ]
  },
  {
   "cell_type": "code",
   "execution_count": 10,
   "metadata": {},
   "outputs": [
    {
     "name": "stdout",
     "output_type": "stream",
     "text": [
      "/root\r\n",
      "|-- dataset\r\n",
      "|   `-- mnist\r\n",
      "|       |-- t10k-images-idx3-ubyte.gz\r\n",
      "|       |-- t10k-labels-idx1-ubyte.gz\r\n",
      "|       |-- train-images-idx3-ubyte.gz\r\n",
      "|       `-- train-labels-idx1-ubyte.gz\r\n",
      "|-- models\r\n",
      "|   `-- tensorflow-sample-code\r\n",
      "|       |-- README.md\r\n",
      "|       |-- data\r\n",
      "|       |-- mnist-tf\r\n",
      "|       |-- models\r\n",
      "|       |-- mpijob\r\n",
      "|       `-- tfjob\r\n",
      "`-- output\r\n",
      "    `-- mnist\r\n",
      "        |-- test\r\n",
      "        `-- train\r\n",
      "\r\n",
      "13 directories, 5 files\r\n"
     ]
    }
   ],
   "source": [
    "! tree -I ai-starter -L 3 ${HOME}"
   ]
  },
  {
   "cell_type": "markdown",
   "metadata": {},
   "source": [
    "12.删除已经完成的任务"
   ]
  },
  {
   "cell_type": "code",
   "execution_count": 11,
   "metadata": {},
   "outputs": [
    {
     "name": "stdout",
     "output_type": "stream",
     "text": [
      "service \"tf-mnist-tensorboard\" deleted\n",
      "deployment.extensions \"tf-mnist-tensorboard\" deleted\n",
      "tfjob.kubeflow.org \"tf-mnist\" deleted\n",
      "configmap \"tf-mnist-tfjob\" deleted\n",
      "\u001b[36mINFO\u001b[0m[0002] The Job tf-mnist has been deleted successfully \n"
     ]
    }
   ],
   "source": [
    "# delete job\n",
    "! arena delete tf-mnist"
   ]
  },
  {
   "cell_type": "markdown",
   "metadata": {},
   "source": [
    "恭喜！您已经使用 `arena` 成功运行了训练作业，而且还能轻松检查 Tensorboard。\n",
    "\n",
    "总结，希望您通过本次演示了解：\n",
    "1. 如何准备代码和数据，并将其放入数据卷中\n",
    "2. 如何在训练任务中引用数据卷，并且使用其中的代码和数据\n",
    "3. 如何利用arena管理您的训练任务。\n",
    "\n",
    "以上是使用`Arena`在云上进行机器学习的例子，您可以修改代码`${HOME}/models/tensorflow-sample-code/tfjob/docker/mnist/main.py`重新提交，从而实现模型开发的效果。"
   ]
  }
 ],
 "metadata": {
  "kernelspec": {
   "display_name": "Python 3",
   "language": "python",
   "name": "python3"
  },
  "language_info": {
   "codemirror_mode": {
    "name": "ipython",
    "version": 3
   },
   "file_extension": ".py",
   "mimetype": "text/x-python",
   "name": "python",
   "nbconvert_exporter": "python",
   "pygments_lexer": "ipython3",
   "version": "3.5.2"
  }
 },
 "nbformat": 4,
 "nbformat_minor": 2
}
